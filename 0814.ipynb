{
 "cells": [
  {
   "cell_type": "code",
   "execution_count": 22,
   "metadata": {},
   "outputs": [
    {
     "name": "stdout",
     "output_type": "stream",
     "text": [
      "\n",
      "2*1= 2\t2*2= 4\t2*3= 6\t2*4= 8\t2*5=10\t2*6=12\t2*7=14\t2*8=16\t2*9=18\t\n",
      "3*1= 3\t3*2= 6\t3*3= 9\t3*4=12\t3*5=15\t3*6=18\t3*7=21\t3*8=24\t3*9=27\t\n",
      "4*1= 4\t4*2= 8\t4*3=12\t4*4=16\t4*5=20\t4*6=24\t4*7=28\t4*8=32\t4*9=36\t\n",
      "5*1= 5\t5*2=10\t5*3=15\t5*4=20\t5*5=25\t5*6=30\t5*7=35\t5*8=40\t5*9=45\t\n",
      "6*1= 6\t6*2=12\t6*3=18\t6*4=24\t6*5=30\t6*6=36\t6*7=42\t6*8=48\t6*9=54\t\n",
      "7*1= 7\t7*2=14\t7*3=21\t7*4=28\t7*5=35\t7*6=42\t7*7=49\t7*8=56\t7*9=63\t\n",
      "8*1= 8\t8*2=16\t8*3=24\t8*4=32\t8*5=40\t8*6=48\t8*7=56\t8*8=64\t8*9=72\t\n",
      "9*1= 9\t9*2=18\t9*3=27\t9*4=36\t9*5=45\t9*6=54\t9*7=63\t9*8=72\t9*9=81\t"
     ]
    }
   ],
   "source": [
    "for a in range(2,10):\n",
    "    # print(a) 在最後時印出A\n",
    "    print()\n",
    "    for b in range(1,10):\n",
    "        c=b*a\n",
    "        print(\"%d*%d=%2d\"%(a,b,c),end=\"\\t\")"
   ]
  },
  {
   "cell_type": "code",
   "execution_count": 27,
   "metadata": {},
   "outputs": [
    {
     "name": "stdout",
     "output_type": "stream",
     "text": [
      "1 2 3 "
     ]
    }
   ],
   "source": [
    "for d in range(1,10):\n",
    "    if(d==4):\n",
    "        break\n",
    "    print(d,end=\" \")"
   ]
  },
  {
   "cell_type": "code",
   "execution_count": 28,
   "metadata": {},
   "outputs": [
    {
     "name": "stdout",
     "output_type": "stream",
     "text": [
      "1 2 3 5 6 7 8 9 "
     ]
    }
   ],
   "source": [
    "for d in range(1,10):\n",
    "    if(d==4):\n",
    "        continue\n",
    "    print(d,end=\" \")"
   ]
  },
  {
   "cell_type": "code",
   "execution_count": 33,
   "metadata": {},
   "outputs": [
    {
     "name": "stdout",
     "output_type": "stream",
     "text": [
      "能被7整除: 7\n",
      "能被7整除: 14\n"
     ]
    }
   ],
   "source": [
    "for e in range(1,20):\n",
    "    if(e%7==0):\n",
    "        print(\"能被7整除: \\b\",e)"
   ]
  },
  {
   "cell_type": "code",
   "execution_count": 35,
   "metadata": {},
   "outputs": [
    {
     "name": "stdout",
     "output_type": "stream",
     "text": [
      "基數是: 1\n",
      "基數是: 3\n",
      "基數是: 5\n",
      "基數是: 7\n",
      "基數是: 9\n",
      "基數是: 11\n",
      "基數是: 13\n",
      "基數是: 15\n",
      "基數是: 17\n",
      "基數是: 19\n"
     ]
    }
   ],
   "source": [
    "for f in range(1,20):\n",
    "    if(f%2!=0):\n",
    "        print(\"基數是: \\b\",f)"
   ]
  },
  {
   "cell_type": "code",
   "execution_count": 38,
   "metadata": {},
   "outputs": [
    {
     "name": "stdout",
     "output_type": "stream",
     "text": [
      "找到第一個奇數: 1\n"
     ]
    }
   ],
   "source": [
    "for g in range(1, 20):\n",
    "    if g % 2 != 0:\n",
    "        print(\"找到第一個奇數: %d\" % g)\n",
    "    break"
   ]
  },
  {
   "cell_type": "code",
   "execution_count": null,
   "metadata": {},
   "outputs": [],
   "source": [
    "h=int(input(\"請輸入第一個數字:\"))\n",
    "i=int(input(\"請輸入第二個數字\"))\n",
    "for "
   ]
  },
  {
   "cell_type": "code",
   "execution_count": 39,
   "metadata": {},
   "outputs": [
    {
     "name": "stdout",
     "output_type": "stream",
     "text": [
      "1 2 3 4 6 7 8 9 11 12 13 14 16 17 18 19 21 22 23 24 26 27 28 29 31 32 33 34 36 37 38 39 41 42 43 44 46 47 48 49 51 52 "
     ]
    }
   ],
   "source": [
    "j=int(input(\"請輸入第一個數字:\"))\n",
    "for j in range(1,j+1):\n",
    "    if(j%5==0):\n",
    "        continue \n",
    "    print(j,end=\" \")\n"
   ]
  },
  {
   "cell_type": "code",
   "execution_count": 41,
   "metadata": {},
   "outputs": [
    {
     "name": "stdout",
     "output_type": "stream",
     "text": [
      "55\n"
     ]
    }
   ],
   "source": [
    "total=n=0\n",
    "while(n<10):\n",
    "    n+=1\n",
    "    total+=n\n",
    "print(total)"
   ]
  },
  {
   "cell_type": "code",
   "execution_count": 50,
   "metadata": {},
   "outputs": [
    {
     "name": "stdout",
     "output_type": "stream",
     "text": [
      "720\n"
     ]
    }
   ],
   "source": [
    "k=int(input(\"請輸入一個數字:\"))\n",
    "total=1\n",
    "while(k>0):\n",
    "    total*=k\n",
    "    k-=1\n",
    "print(total)\n"
   ]
  },
  {
   "cell_type": "code",
   "execution_count": 65,
   "metadata": {},
   "outputs": [
    {
     "name": "stdout",
     "output_type": "stream",
     "text": [
      "650\n",
      "625\n"
     ]
    }
   ],
   "source": [
    "n=0\n",
    "s=-1\n",
    "odd=0\n",
    "even=0\n",
    "while(n<50):\n",
    "    n+=2\n",
    "    even+=n\n",
    "print(even)\n",
    "while(s<49):\n",
    "    s+=2\n",
    "    print(s)\n",
    "    odd+=s\n",
    "print(odd)\n",
    "\n"
   ]
  }
 ],
 "metadata": {
  "kernelspec": {
   "display_name": "Python 3",
   "language": "python",
   "name": "python3"
  },
  "language_info": {
   "codemirror_mode": {
    "name": "ipython",
    "version": 3
   },
   "file_extension": ".py",
   "mimetype": "text/x-python",
   "name": "python",
   "nbconvert_exporter": "python",
   "pygments_lexer": "ipython3",
   "version": "3.12.4"
  }
 },
 "nbformat": 4,
 "nbformat_minor": 2
}
