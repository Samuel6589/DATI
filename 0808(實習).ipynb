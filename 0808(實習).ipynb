{
 "cells": [
  {
   "cell_type": "code",
   "execution_count": 3,
   "metadata": {},
   "outputs": [
    {
     "name": "stderr",
     "output_type": "stream",
     "text": [
      "<>:1: SyntaxWarning: \"is not\" with 'float' literal. Did you mean \"!=\"?\n",
      "<>:1: SyntaxWarning: \"is not\" with 'float' literal. Did you mean \"!=\"?\n",
      "C:\\Users\\AA\\AppData\\Local\\Temp\\ipykernel_15072\\265249374.py:1: SyntaxWarning: \"is not\" with 'float' literal. Did you mean \"!=\"?\n",
      "  6.0 is not 2.0*3\n"
     ]
    },
    {
     "data": {
      "text/plain": [
       "False"
      ]
     },
     "execution_count": 3,
     "metadata": {},
     "output_type": "execute_result"
    }
   ],
   "source": [
    "6.0 is not 2.0*3"
   ]
  },
  {
   "cell_type": "code",
   "execution_count": 7,
   "metadata": {},
   "outputs": [
    {
     "name": "stdout",
     "output_type": "stream",
     "text": [
      "在 2 4 2 下 解1= -4.0\n"
     ]
    }
   ],
   "source": [
    "a,b,c=2,4,2\n",
    "s1=-b+(b**2-4*a*c)**0.5/a*2\n",
    "print(\"在\",a,b,c,\"下\", \"解1=\",s1)"
   ]
  },
  {
   "cell_type": "code",
   "execution_count": 9,
   "metadata": {},
   "outputs": [
    {
     "name": "stdout",
     "output_type": "stream",
     "text": [
      "在 5 2 3 下 解1= (-1.9999999999999998+2.993325909419153j)\n"
     ]
    }
   ],
   "source": [
    "a=int(input())\n",
    "b=int(input())\n",
    "c=int(input())\n",
    "s1=-b+(b**2-4*a*c)**0.5/a*2\n",
    "print(\"在\",a,b,c,\"下\", \"解1=\",s1)"
   ]
  },
  {
   "cell_type": "code",
   "execution_count": 15,
   "metadata": {},
   "outputs": [
    {
     "name": "stdout",
     "output_type": "stream",
     "text": [
      "Radius=5.00\n",
      "circumference=31.42\n",
      "Area=78.54\n"
     ]
    }
   ],
   "source": [
    "import math\n",
    "Radius=eval(input())\n",
    "pi=math.pi\n",
    "circumference=(Radius+Radius)*pi\n",
    "Area=Radius*Radius*pi\n",
    "print(\"Radius={:.2f}\".format(Radius))\n",
    "print(\"circumference={:.2f}\".format(circumference))\n",
    "print(\"Area={:.2f}\".format(Area))"
   ]
  },
  {
   "cell_type": "code",
   "execution_count": 20,
   "metadata": {},
   "outputs": [
    {
     "name": "stdout",
     "output_type": "stream",
     "text": [
      "6\n"
     ]
    }
   ],
   "source": [
    "a=int(input())\n",
    "b=int(input())\n",
    "if(a>b):\n",
    "    print(a)\n",
    "else:\n",
    "    print(b)"
   ]
  },
  {
   "cell_type": "code",
   "execution_count": 23,
   "metadata": {},
   "outputs": [
    {
     "name": "stdout",
     "output_type": "stream",
     "text": [
      "222\n"
     ]
    }
   ],
   "source": [
    "a=str(input())\n",
    "print(a+a+a)"
   ]
  },
  {
   "cell_type": "code",
   "execution_count": 24,
   "metadata": {},
   "outputs": [
    {
     "ename": "SyntaxError",
     "evalue": "'literal' is an illegal expression for augmented assignment (2738855279.py, line 2)",
     "output_type": "error",
     "traceback": [
      "\u001b[1;36m  Cell \u001b[1;32mIn[24], line 2\u001b[1;36m\u001b[0m\n\u001b[1;33m    1000*=(1+0.02)**a\u001b[0m\n\u001b[1;37m    ^\u001b[0m\n\u001b[1;31mSyntaxError\u001b[0m\u001b[1;31m:\u001b[0m 'literal' is an illegal expression for augmented assignment\n"
     ]
    }
   ],
   "source": [
    "a=int(input(\"請輸入本金純款金額:\"))\n",
    "1000*=(1+0.02)**a\n",
    "if (a>0):  \n",
    "\tprint(c)\n",
    "else\n",
    "  \tprint(\"Input Error\")"
   ]
  },
  {
   "cell_type": "code",
   "execution_count": 48,
   "metadata": {},
   "outputs": [
    {
     "name": "stdout",
     "output_type": "stream",
     "text": [
      "Input Error\n"
     ]
    }
   ],
   "source": [
    "a=int(input())\n",
    "if(a>=0):\n",
    "    if((a%2)==0):\n",
    "        print(a,\"is even\")\n",
    "    else:\n",
    "        print(a,\"is odd\")\n",
    "else:\n",
    "    print(\"Input Error\")"
   ]
  },
  {
   "cell_type": "code",
   "execution_count": null,
   "metadata": {},
   "outputs": [],
   "source": [
    "s=int(input())\n",
    "if(s>0 and s<12):\n",
    "    if(s==1 or 2 or 3):\n",
    "        print(s,\"is spring\")\n",
    "    elif(s==4 or 5 or 6):\n",
    "        print(s,\"is summer\")\n",
    "    elif(s==7 or 8 or 9):\n",
    "        print(s,\"is autumn\")\n",
    "    else:\n",
    "        print(s,\"is winter\")\n",
    "else:\n",
    "    print(\"Input Error\")"
   ]
  }
 ],
 "metadata": {
  "kernelspec": {
   "display_name": "Python 3",
   "language": "python",
   "name": "python3"
  },
  "language_info": {
   "codemirror_mode": {
    "name": "ipython",
    "version": 3
   },
   "file_extension": ".py",
   "mimetype": "text/x-python",
   "name": "python",
   "nbconvert_exporter": "python",
   "pygments_lexer": "ipython3",
   "version": "3.12.4"
  }
 },
 "nbformat": 4,
 "nbformat_minor": 2
}
