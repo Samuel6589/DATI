{
 "cells": [
  {
   "cell_type": "code",
   "execution_count": 3,
   "metadata": {},
   "outputs": [
    {
     "name": "stdout",
     "output_type": "stream",
     "text": [
      "15\n",
      "9\n",
      "36\n",
      "4.0\n",
      "4\n",
      "2\n",
      "144\n"
     ]
    }
   ],
   "source": [
    "print(12+3)\n",
    "print(12-3)\n",
    "print(12*3)\n",
    "print(12/3)\n",
    "print(12//3)\n",
    "print(12%5)\n",
    "print(12**2)\n"
   ]
  },
  {
   "cell_type": "code",
   "execution_count": 12,
   "metadata": {},
   "outputs": [
    {
     "name": "stdout",
     "output_type": "stream",
     "text": [
      "上底長度為: 3 下底長度為: 4 高度為: 3 面積為: 10.5\n"
     ]
    }
   ],
   "source": [
    "上底=int(input(\"請輸入梯形的上底:\"))\n",
    "下底=int(input(\"請輸入梯形的下底:\"))\n",
    "高=int(input(\"請輸入梯形的高\"))\n",
    "面積=(上底+下底)*高/2\n",
    "print(\"上底長度為:\",上底,\"下底長度為:\",下底,\"高度為:\",高,\"面積為:\",面積)"
   ]
  },
  {
   "cell_type": "code",
   "execution_count": 35,
   "metadata": {},
   "outputs": [
    {
     "name": "stdout",
     "output_type": "stream",
     "text": [
      "身高180公分, 體重80公斤, BMI值為24.690000\n"
     ]
    }
   ],
   "source": [
    "身高=int(input(\"請你輸入身高(cm):\"))\n",
    "體重=int(input(\"請你輸入體重(kg):\"))\n",
    "BMI=體重/(身高/100)**2\n",
    "print(\"身高%d公分, 體重%d公斤, BMI值為%f\"%(身高,體重,BMI))\n"
   ]
  },
  {
   "cell_type": "code",
   "execution_count": 38,
   "metadata": {},
   "outputs": [
    {
     "name": "stdout",
     "output_type": "stream",
     "text": [
      "True\n",
      "False\n",
      "False\n",
      "False\n",
      "True\n",
      "True\n",
      "True\n",
      "False\n",
      "True\n",
      "False\n",
      "False\n",
      "False\n"
     ]
    }
   ],
   "source": [
    "print(6+9==2+13)\n",
    "print(6+9!=2+13)\n",
    "print(6+9>2+13)\n",
    "print(6+9<2+13)\n",
    "print(6+9>=2+13)\n",
    "print(6+9<=2+13)\n",
    "\n",
    "print(not(3>5))\n",
    "print(not(3<5))\n",
    "\n",
    "print((5>3)and(9>6))\n",
    "print((5>3)and(9<6))\n",
    "print((5<3)and(9>6))\n",
    "print((5<3)and(9<6))\n",
    "\n"
   ]
  },
  {
   "cell_type": "code",
   "execution_count": 40,
   "metadata": {},
   "outputs": [
    {
     "data": {
      "text/plain": [
       "6"
      ]
     },
     "execution_count": 40,
     "metadata": {},
     "output_type": "execute_result"
    }
   ],
   "source": [
    "b=3\n",
    "b=b+3\n",
    "b"
   ]
  },
  {
   "cell_type": "code",
   "execution_count": 43,
   "metadata": {},
   "outputs": [
    {
     "data": {
      "text/plain": [
       "15"
      ]
     },
     "execution_count": 43,
     "metadata": {},
     "output_type": "execute_result"
    }
   ],
   "source": [
    "i=10\n",
    "i+=5\n",
    "i"
   ]
  },
  {
   "cell_type": "code",
   "execution_count": 44,
   "metadata": {},
   "outputs": [
    {
     "data": {
      "text/plain": [
       "10"
      ]
     },
     "execution_count": 44,
     "metadata": {},
     "output_type": "execute_result"
    }
   ],
   "source": [
    "i-=5\n",
    "i"
   ]
  },
  {
   "cell_type": "code",
   "execution_count": 45,
   "metadata": {},
   "outputs": [
    {
     "data": {
      "text/plain": [
       "50"
      ]
     },
     "execution_count": 45,
     "metadata": {},
     "output_type": "execute_result"
    }
   ],
   "source": [
    "i*=5\n",
    "i"
   ]
  },
  {
   "cell_type": "code",
   "execution_count": 46,
   "metadata": {},
   "outputs": [
    {
     "data": {
      "text/plain": [
       "10.0"
      ]
     },
     "execution_count": 46,
     "metadata": {},
     "output_type": "execute_result"
    }
   ],
   "source": [
    "i/=5\n",
    "i"
   ]
  },
  {
   "cell_type": "code",
   "execution_count": 51,
   "metadata": {},
   "outputs": [
    {
     "data": {
      "text/plain": [
       "'你好'"
      ]
     },
     "execution_count": 51,
     "metadata": {},
     "output_type": "execute_result"
    }
   ],
   "source": [
    "a=\"你\"\n",
    "b=\"好\"\n",
    "a+b"
   ]
  },
  {
   "cell_type": "code",
   "execution_count": 56,
   "metadata": {},
   "outputs": [
    {
     "name": "stdout",
     "output_type": "stream",
     "text": [
      "11261.62419264\n"
     ]
    }
   ],
   "source": [
    "c=int(input(\"請輸入本金純款金額:\"))\n",
    "c*=(1+0.02)**6\n",
    "print(c)"
   ]
  }
 ],
 "metadata": {
  "kernelspec": {
   "display_name": "Python 3",
   "language": "python",
   "name": "python3"
  },
  "language_info": {
   "codemirror_mode": {
    "name": "ipython",
    "version": 3
   },
   "file_extension": ".py",
   "mimetype": "text/x-python",
   "name": "python",
   "nbconvert_exporter": "python",
   "pygments_lexer": "ipython3",
   "version": "3.12.4"
  }
 },
 "nbformat": 4,
 "nbformat_minor": 2
}
