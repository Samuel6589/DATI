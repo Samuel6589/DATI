{
 "cells": [
  {
   "cell_type": "code",
   "execution_count": 14,
   "metadata": {},
   "outputs": [
    {
     "name": "stdout",
     "output_type": "stream",
     "text": [
      "hello world\n"
     ]
    }
   ],
   "source": [
    "print(\"hello world\")\n",
    "# 1"
   ]
  },
  {
   "cell_type": "code",
   "execution_count": 15,
   "metadata": {},
   "outputs": [
    {
     "name": "stdout",
     "output_type": "stream",
     "text": [
      "1\n"
     ]
    }
   ],
   "source": [
    "a=str(input())\n",
    "print(len(a))\n",
    "# 2"
   ]
  },
  {
   "cell_type": "code",
   "execution_count": 2,
   "metadata": {},
   "outputs": [
    {
     "name": "stdout",
     "output_type": "stream",
     "text": [
      "3\n"
     ]
    }
   ],
   "source": [
    "a=input().split(\"+\")\n",
    "b=int(a[0])\n",
    "c=int(a[1])\n",
    "d=b+c\n",
    "print(d)\n",
    "# 3\n"
   ]
  },
  {
   "cell_type": "code",
   "execution_count": null,
   "metadata": {},
   "outputs": [
    {
     "name": "stdout",
     "output_type": "stream",
     "text": [
      "1 2 3 1 2 3 1 2 3 "
     ]
    }
   ],
   "source": [
    "a=input().split()\n",
    "b=int(a[0])\n",
    "c=int(a[1])\n",
    "d=int(a[2])\n",
    "print(b,c,d,b,c,d,b,c,d,end=\" \")\n",
    "# 4"
   ]
  },
  {
   "cell_type": "code",
   "execution_count": null,
   "metadata": {},
   "outputs": [
    {
     "name": "stdout",
     "output_type": "stream",
     "text": [
      "banana orange apple "
     ]
    }
   ],
   "source": [
    "a=input().split()\n",
    "b=str(a[0])\n",
    "c=str(a[1])\n",
    "d=str(a[2])\n",
    "print(d,c,b,end=\" \")\n",
    "# 5"
   ]
  },
  {
   "cell_type": "code",
   "execution_count": null,
   "metadata": {},
   "outputs": [
    {
     "name": "stdout",
     "output_type": "stream",
     "text": [
      "['1', '2', '3', '...', '1000']\n",
      "5\n",
      "500500\n"
     ]
    }
   ],
   "source": [
    "a=input().split(\".\" and \"+\")\n",
    "print(a)\n",
    "b=len(a)\n",
    "print(b)\n",
    "c=int(a[0])\n",
    "d=int(a[b-1])\n",
    "e=(c+d)*d/2\n",
    "e=int(e)\n",
    "print(e)\n",
    "# 6 完整"
   ]
  },
  {
   "cell_type": "code",
   "execution_count": null,
   "metadata": {},
   "outputs": [
    {
     "name": "stdout",
     "output_type": "stream",
     "text": [
      "5050\n"
     ]
    }
   ],
   "source": [
    "a=input().split(\".\" and \"+\")\n",
    "b=len(a)\n",
    "c=int(a[0])\n",
    "d=int(a[b-1])\n",
    "e=(c+d)*d/2\n",
    "e=int(e)\n",
    "print(e)\n",
    "# 6 答案1"
   ]
  },
  {
   "cell_type": "code",
   "execution_count": null,
   "metadata": {},
   "outputs": [
    {
     "name": "stdout",
     "output_type": "stream",
     "text": [
      "5050\n"
     ]
    }
   ],
   "source": [
    "a=input()\n",
    "print(int((1+100)*100/2))\n",
    "# 6 正答"
   ]
  },
  {
   "cell_type": "code",
   "execution_count": null,
   "metadata": {},
   "outputs": [
    {
     "name": "stdout",
     "output_type": "stream",
     "text": [
      "Input Error\n"
     ]
    }
   ],
   "source": [
    "a=int(input())\n",
    "if(a<0):\n",
    "    print(\"Input Error\")\n",
    "if(a%2==0 and a>=0):\n",
    "    print(a,\"is even\",end=\" \")\n",
    "if(a%2!=0):\n",
    "    print(a,\"is odd\",end=\" \")\n",
    "# 7 答案"
   ]
  },
  {
   "cell_type": "code",
   "execution_count": 3,
   "metadata": {},
   "outputs": [
    {
     "name": "stdout",
     "output_type": "stream",
     "text": [
      "5 is summer\n"
     ]
    }
   ],
   "source": [
    "a=int(input())\n",
    "if(a<=0 or a>=13):\n",
    "    print(\"Input Error\")\n",
    "if(a<=3 and a>=1):\n",
    "    print(a,\"is spring\")\n",
    "if(a<=6 and a>=4):\n",
    "    print(a,\"is summer\")\n",
    "if(a<=9 and a>=7):\n",
    "    print(a,\"is autumn\")\n",
    "if(a<=12 and a>=10):\n",
    "    print(a,\"is winter\")\n",
    "# 8 答案"
   ]
  },
  {
   "cell_type": "code",
   "execution_count": null,
   "metadata": {},
   "outputs": [
    {
     "name": "stdout",
     "output_type": "stream",
     "text": [
      "440 yuan\n"
     ]
    }
   ],
   "source": [
    "a=int(input())\n",
    "if(a<0):\n",
    "    print(\"Input Error\")\n",
    "elif(a==0):\n",
    "    print(\"0 yuan\")\n",
    "elif(a<=5 and a>=1):\n",
    "    print(\"240 yuan\")\n",
    "else:\n",
    "    print((a-5)*40+240,\"yuan\")\n",
    "# 9 答案"
   ]
  },
  {
   "cell_type": "code",
   "execution_count": null,
   "metadata": {},
   "outputs": [
    {
     "name": "stdout",
     "output_type": "stream",
     "text": [
      "100000.0\n"
     ]
    }
   ],
   "source": [
    "a=int(input())\n",
    "if(a<0):\n",
    "    print(\"Input Error\")\n",
    "else:\n",
    "    print(100000*(1+0.03)**a)\n",
    "# 10 答案"
   ]
  },
  {
   "cell_type": "code",
   "execution_count": 4,
   "metadata": {},
   "outputs": [
    {
     "name": "stdout",
     "output_type": "stream",
     "text": [
      "2\n"
     ]
    }
   ],
   "source": [
    "a=input().split()\n",
    "b=int(a[0])\n",
    "c=int(a[1])\n",
    "d=int(a[2])\n",
    "if(b<c and b<d):\n",
    "    print(b)\n",
    "elif(c<b and c<d):\n",
    "    print(c)\n",
    "else:\n",
    "    print(d)\n",
    "# 2-1 答案"
   ]
  },
  {
   "cell_type": "code",
   "execution_count": null,
   "metadata": {},
   "outputs": [
    {
     "name": "stdout",
     "output_type": "stream",
     "text": [
      "30\n"
     ]
    }
   ],
   "source": [
    "a=input().split()\n",
    "b=float(a[0])\n",
    "c=float(a[1])\n",
    "d=float(a[2])\n",
    "if(b>c and b>d):\n",
    "    print(b)\n",
    "elif(c>b and c>d):\n",
    "    print(c)\n",
    "else:\n",
    "    print(d)\n",
    "# 2-2 答案"
   ]
  },
  {
   "cell_type": "code",
   "execution_count": null,
   "metadata": {},
   "outputs": [
    {
     "name": "stdout",
     "output_type": "stream",
     "text": [
      "1 2 4 5 8 10 20 40 "
     ]
    }
   ],
   "source": [
    "a=int(input())\n",
    "for i in range(1,a+1):\n",
    "    if(a%i==0):\n",
    "        print(i,end=(\" \"))\n",
    "# 2-3 答案"
   ]
  },
  {
   "cell_type": "code",
   "execution_count": null,
   "metadata": {},
   "outputs": [
    {
     "name": "stdout",
     "output_type": "stream",
     "text": [
      "84\n"
     ]
    }
   ],
   "source": [
    "a=int(input())\n",
    "sum=0\n",
    "for i in range(1,a+1):\n",
    "    if(i%3==0 or i%7==0):\n",
    "        sum+=i\n",
    "print(sum)\n",
    "# 2-4 答案"
   ]
  },
  {
   "cell_type": "code",
   "execution_count": null,
   "metadata": {},
   "outputs": [
    {
     "name": "stdout",
     "output_type": "stream",
     "text": [
      "*\n",
      "**\n",
      "***\n",
      "****\n",
      "*****\n"
     ]
    }
   ],
   "source": [
    "a=int(input())\n",
    "for i in range(1,a+1):\n",
    "    print(\"*\"*i)\n",
    "# 2-5 答案"
   ]
  },
  {
   "cell_type": "code",
   "execution_count": 4,
   "metadata": {},
   "outputs": [
    {
     "name": "stdout",
     "output_type": "stream",
     "text": [
      "1\n",
      "12\n",
      "123\n",
      "1234\n",
      "12345\n"
     ]
    }
   ],
   "source": [
    "a=int(input())\n",
    "for c in range(1,a+1):\n",
    "    for i in range(1,c+1):\n",
    "        print(i,end=\"\")\n",
    "    print()\n",
    "# 2-6 答案"
   ]
  },
  {
   "cell_type": "code",
   "execution_count": 2,
   "metadata": {},
   "outputs": [
    {
     "name": "stdout",
     "output_type": "stream",
     "text": [
      "10\n"
     ]
    }
   ],
   "source": [
    "a=input().split()\n",
    "b=int(a[0])\n",
    "c=int(a[1])\n",
    "d=[]\n",
    "for i in range(1,min(b,c)+1):\n",
    "        if(b%i==0 and c%i==0):\n",
    "                d.append(i)\n",
    "print(max(d))\n",
    "# 2-7 答案"
   ]
  },
  {
   "cell_type": "code",
   "execution_count": 8,
   "metadata": {},
   "outputs": [
    {
     "name": "stdout",
     "output_type": "stream",
     "text": [
      "10\n"
     ]
    }
   ],
   "source": [
    "import math\n",
    "\n",
    "a = input().split()\n",
    "b = int(a[0])\n",
    "c = int(a[1])\n",
    "\n",
    "# 計算 b 和 c 的最大公因數\n",
    "gcd = math.gcd(b, c)\n",
    "\n",
    "print(gcd)\n",
    "# 2-7 簡單但錯"
   ]
  },
  {
   "cell_type": "code",
   "execution_count": 8,
   "metadata": {},
   "outputs": [
    {
     "name": "stdout",
     "output_type": "stream",
     "text": [
      "100\n"
     ]
    }
   ],
   "source": [
    "a=input().split()\n",
    "b=int(a[0])\n",
    "c=int(a[1])\n",
    "for i in range(1,(b+1)*(c+1)):\n",
    "    if(i%b==0 and i%c==0):\n",
    "        print(i)\n",
    "        break\n",
    "# 2-8 答案"
   ]
  },
  {
   "cell_type": "code",
   "execution_count": 7,
   "metadata": {},
   "outputs": [
    {
     "name": "stdout",
     "output_type": "stream",
     "text": [
      "56\n"
     ]
    }
   ],
   "source": [
    "import math\n",
    "a = input().split()\n",
    "b = int(a[0])\n",
    "c = int(a[1])\n",
    "lcm= math.lcm(b, c)\n",
    "print(lcm)\n",
    "# 2-8 簡單但錯"
   ]
  },
  {
   "cell_type": "code",
   "execution_count": null,
   "metadata": {},
   "outputs": [
    {
     "name": "stdout",
     "output_type": "stream",
     "text": [
      "Invalid\n"
     ]
    }
   ],
   "source": [
    "a=input().split()\n",
    "b=int(a[0])\n",
    "c=int(a[1])\n",
    "d=int(a[2])\n",
    "if(b+c>d and b+d>c):\n",
    "    print(\"Valid\")\n",
    "else:\n",
    "    print(\"Invalid\")\n",
    "# 2-10 答案"
   ]
  },
  {
   "cell_type": "code",
   "execution_count": null,
   "metadata": {},
   "outputs": [],
   "source": [
    "a=input().split()\n",
    "for i in range(len(a)-1,-1,-1):\n",
    "    print(a[i],end=\" \")\n",
    "# 3-1 答案"
   ]
  },
  {
   "cell_type": "code",
   "execution_count": 23,
   "metadata": {},
   "outputs": [
    {
     "name": "stdout",
     "output_type": "stream",
     "text": [
      "2097 is common year\n"
     ]
    }
   ],
   "source": [
    "a=int(input())\n",
    "if((a%4==0 and a%100!=0) or (a%100==0 and a%400==0)):\n",
    "    print(a,\"is leap year\")\n",
    "else:\n",
    "    print(a,\"is common year\")\n",
    "# 3-4 答案"
   ]
  },
  {
   "cell_type": "code",
   "execution_count": 10,
   "metadata": {},
   "outputs": [
    {
     "name": "stdout",
     "output_type": "stream",
     "text": [
      "76\n"
     ]
    }
   ],
   "source": [
    "a=int(input())\n",
    "sum=0\n",
    "for i in range(15,a+1):\n",
    "    if(i%2==0):\n",
    "        sum+=i\n",
    "print(sum)\n",
    "# 3-6 答案"
   ]
  },
  {
   "cell_type": "code",
   "execution_count": 9,
   "metadata": {},
   "outputs": [
    {
     "name": "stdout",
     "output_type": "stream",
     "text": [
      "Ans 123\n"
     ]
    }
   ],
   "source": [
    "a=input()\n",
    "print(\"Ans \"+a)\n",
    "# 3-7 答案"
   ]
  },
  {
   "cell_type": "code",
   "execution_count": 6,
   "metadata": {},
   "outputs": [
    {
     "name": "stdout",
     "output_type": "stream",
     "text": [
      "75\n"
     ]
    }
   ],
   "source": [
    "a=int(input())\n",
    "sum=0\n",
    "for i in range(10,a+1):\n",
    "    sum+=i\n",
    "print(sum)\n",
    "# 3-10 答案\n"
   ]
  }
 ],
 "metadata": {
  "kernelspec": {
   "display_name": "Python 3",
   "language": "python",
   "name": "python3"
  },
  "language_info": {
   "codemirror_mode": {
    "name": "ipython",
    "version": 3
   },
   "file_extension": ".py",
   "mimetype": "text/x-python",
   "name": "python",
   "nbconvert_exporter": "python",
   "pygments_lexer": "ipython3",
   "version": "3.12.4"
  }
 },
 "nbformat": 4,
 "nbformat_minor": 2
}
