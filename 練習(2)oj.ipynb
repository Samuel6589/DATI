{
 "cells": [
  {
   "cell_type": "code",
   "execution_count": 14,
   "metadata": {},
   "outputs": [
    {
     "name": "stdout",
     "output_type": "stream",
     "text": [
      "hello world\n"
     ]
    }
   ],
   "source": [
    "print(\"hello world\")\n",
    "# 1"
   ]
  },
  {
   "cell_type": "code",
   "execution_count": 15,
   "metadata": {},
   "outputs": [
    {
     "name": "stdout",
     "output_type": "stream",
     "text": [
      "1\n"
     ]
    }
   ],
   "source": [
    "a=str(input())\n",
    "print(len(a))\n",
    "# 2"
   ]
  },
  {
   "cell_type": "code",
   "execution_count": 2,
   "metadata": {},
   "outputs": [
    {
     "name": "stdout",
     "output_type": "stream",
     "text": [
      "3\n"
     ]
    }
   ],
   "source": [
    "a=input().split(\"+\")\n",
    "b=int(a[0])\n",
    "c=int(a[1])\n",
    "d=b+c\n",
    "print(d)\n",
    "# 3\n"
   ]
  },
  {
   "cell_type": "code",
   "execution_count": null,
   "metadata": {},
   "outputs": [
    {
     "name": "stdout",
     "output_type": "stream",
     "text": [
      "1 2 3 1 2 3 1 2 3 "
     ]
    }
   ],
   "source": [
    "a=input().split()\n",
    "b=int(a[0])\n",
    "c=int(a[1])\n",
    "d=int(a[2])\n",
    "print(b,c,d,b,c,d,b,c,d,end=\" \")\n",
    "# 4"
   ]
  },
  {
   "cell_type": "code",
   "execution_count": null,
   "metadata": {},
   "outputs": [
    {
     "name": "stdout",
     "output_type": "stream",
     "text": [
      "banana orange apple "
     ]
    }
   ],
   "source": [
    "a=input().split()\n",
    "b=str(a[0])\n",
    "c=str(a[1])\n",
    "d=str(a[2])\n",
    "print(d,c,b,end=\" \")\n",
    "# 5"
   ]
  },
  {
   "cell_type": "code",
   "execution_count": null,
   "metadata": {},
   "outputs": [
    {
     "name": "stdout",
     "output_type": "stream",
     "text": [
      "['1', '2', '3', '...', '1000']\n",
      "5\n",
      "500500\n"
     ]
    }
   ],
   "source": [
    "a=input().split(\".\" and \"+\")\n",
    "print(a)\n",
    "b=len(a)\n",
    "print(b)\n",
    "c=int(a[0])\n",
    "d=int(a[b-1])\n",
    "e=(c+d)*d/2\n",
    "e=int(e)\n",
    "print(e)\n",
    "# 6 完整"
   ]
  },
  {
   "cell_type": "code",
   "execution_count": null,
   "metadata": {},
   "outputs": [
    {
     "name": "stdout",
     "output_type": "stream",
     "text": [
      "5050\n"
     ]
    }
   ],
   "source": [
    "a=input().split(\".\" and \"+\")\n",
    "b=len(a)\n",
    "c=int(a[0])\n",
    "d=int(a[b-1])\n",
    "e=(c+d)*d/2\n",
    "e=int(e)\n",
    "print(e)\n",
    "# 6 答案1"
   ]
  },
  {
   "cell_type": "code",
   "execution_count": null,
   "metadata": {},
   "outputs": [
    {
     "name": "stdout",
     "output_type": "stream",
     "text": [
      "5050\n"
     ]
    }
   ],
   "source": [
    "a=input()\n",
    "print(int((1+100)*100/2))\n",
    "# 6 正答"
   ]
  },
  {
   "cell_type": "code",
   "execution_count": null,
   "metadata": {},
   "outputs": [
    {
     "name": "stdout",
     "output_type": "stream",
     "text": [
      "Input Error\n"
     ]
    }
   ],
   "source": [
    "a=int(input())\n",
    "if(a<0):\n",
    "    print(\"Input Error\")\n",
    "if(a%2==0 and a>=0):\n",
    "    print(a,\"is even\",end=\" \")\n",
    "if(a%2!=0):\n",
    "    print(a,\"is odd\",end=\" \")\n",
    "# panda 1 答案"
   ]
  },
  {
   "cell_type": "code",
   "execution_count": 3,
   "metadata": {},
   "outputs": [
    {
     "name": "stdout",
     "output_type": "stream",
     "text": [
      "5 is summer\n"
     ]
    }
   ],
   "source": [
    "a=int(input())\n",
    "if(a<=0 or a>=13):\n",
    "    print(\"Input Error\")\n",
    "if(a<=3 and a>=1):\n",
    "    print(a,\"is spring\")\n",
    "if(a<=6 and a>=4):\n",
    "    print(a,\"is summer\")\n",
    "if(a<=9 and a>=7):\n",
    "    print(a,\"is autumn\")\n",
    "if(a<=12 and a>=10):\n",
    "    print(a,\"is winter\")\n",
    "# 2 答案"
   ]
  },
  {
   "cell_type": "code",
   "execution_count": null,
   "metadata": {},
   "outputs": [
    {
     "name": "stdout",
     "output_type": "stream",
     "text": [
      "440 yuan\n"
     ]
    }
   ],
   "source": [
    "a=int(input())\n",
    "if(a<0):\n",
    "    print(\"Input Error\")\n",
    "elif(a==0):\n",
    "    print(\"0 yuan\")\n",
    "elif(a<=5 and a>=1):\n",
    "    print(\"240 yuan\")\n",
    "else:\n",
    "    print((a-5)*40+240,\"yuan\")\n",
    "# 3 答案"
   ]
  },
  {
   "cell_type": "code",
   "execution_count": null,
   "metadata": {},
   "outputs": [
    {
     "name": "stdout",
     "output_type": "stream",
     "text": [
      "100000.0\n"
     ]
    }
   ],
   "source": [
    "a=int(input())\n",
    "if(a<0):\n",
    "    print(\"Input Error\")\n",
    "else:\n",
    "    print(100000*(1+0.03)**a)\n",
    "# 4 答案"
   ]
  },
  {
   "cell_type": "code",
   "execution_count": 4,
   "metadata": {},
   "outputs": [
    {
     "name": "stdout",
     "output_type": "stream",
     "text": [
      "2\n"
     ]
    }
   ],
   "source": [
    "a=input().split()\n",
    "b=int(a[0])\n",
    "c=int(a[1])\n",
    "d=int(a[2])\n",
    "if(b<c and b<d):\n",
    "    print(b)\n",
    "elif(c<b and c<d):\n",
    "    print(c)\n",
    "else:\n",
    "    print(d)\n",
    "# 5 答案"
   ]
  },
  {
   "cell_type": "code",
   "execution_count": null,
   "metadata": {},
   "outputs": [
    {
     "name": "stdout",
     "output_type": "stream",
     "text": [
      "30\n"
     ]
    }
   ],
   "source": [
    "a=input().split()\n",
    "b=float(a[0])\n",
    "c=float(a[1])\n",
    "d=float(a[2])\n",
    "if(b>c and b>d):\n",
    "    print(b)\n",
    "elif(c>b and c>d):\n",
    "    print(c)\n",
    "else:\n",
    "    print(d)\n",
    "# 6 答案"
   ]
  },
  {
   "cell_type": "code",
   "execution_count": null,
   "metadata": {},
   "outputs": [
    {
     "name": "stdout",
     "output_type": "stream",
     "text": [
      "1 2 4 5 8 10 20 40 "
     ]
    }
   ],
   "source": [
    "a=int(input())\n",
    "for i in range(1,a+1):\n",
    "    if(a%i==0):\n",
    "        print(i,end=(\" \"))\n",
    "# 7 答案"
   ]
  },
  {
   "cell_type": "code",
   "execution_count": null,
   "metadata": {},
   "outputs": [
    {
     "name": "stdout",
     "output_type": "stream",
     "text": [
      "84\n"
     ]
    }
   ],
   "source": [
    "a=int(input())\n",
    "sum=0\n",
    "for i in range(1,a+1):\n",
    "    if(i%3==0 or i%7==0):\n",
    "        sum+=i\n",
    "print(sum)\n",
    "# 8 答案"
   ]
  },
  {
   "cell_type": "code",
   "execution_count": null,
   "metadata": {},
   "outputs": [
    {
     "name": "stdout",
     "output_type": "stream",
     "text": [
      "*\n",
      "**\n",
      "***\n",
      "****\n",
      "*****\n"
     ]
    }
   ],
   "source": [
    "a=int(input())\n",
    "for i in range(1,a+1):\n",
    "    print(\"*\"*i)\n",
    "# 9 答案"
   ]
  },
  {
   "cell_type": "code",
   "execution_count": 4,
   "metadata": {},
   "outputs": [
    {
     "name": "stdout",
     "output_type": "stream",
     "text": [
      "1\n",
      "12\n",
      "123\n",
      "1234\n",
      "12345\n"
     ]
    }
   ],
   "source": [
    "a=int(input())\n",
    "for c in range(1,a+1):\n",
    "    for i in range(1,c+1):\n",
    "        print(i,end=\"\")\n",
    "    print()\n",
    "# 10 答案"
   ]
  },
  {
   "cell_type": "code",
   "execution_count": 2,
   "metadata": {},
   "outputs": [
    {
     "name": "stdout",
     "output_type": "stream",
     "text": [
      "10\n"
     ]
    }
   ],
   "source": [
    "a=input().split()\n",
    "b=int(a[0])\n",
    "c=int(a[1])\n",
    "d=[]\n",
    "for i in range(1,min(b,c)+1):\n",
    "        if(b%i==0 and c%i==0):\n",
    "                d.append(i)\n",
    "print(max(d))\n",
    "# 11 答案"
   ]
  },
  {
   "cell_type": "code",
   "execution_count": 8,
   "metadata": {},
   "outputs": [
    {
     "name": "stdout",
     "output_type": "stream",
     "text": [
      "10\n"
     ]
    }
   ],
   "source": [
    "import math\n",
    "\n",
    "a = input().split()\n",
    "b = int(a[0])\n",
    "c = int(a[1])\n",
    "\n",
    "# 計算 b 和 c 的最大公因數\n",
    "gcd = math.gcd(b, c)\n",
    "\n",
    "print(gcd)\n",
    "# 11 簡單但錯"
   ]
  },
  {
   "cell_type": "code",
   "execution_count": 8,
   "metadata": {},
   "outputs": [
    {
     "name": "stdout",
     "output_type": "stream",
     "text": [
      "100\n"
     ]
    }
   ],
   "source": [
    "a=input().split()\n",
    "b=int(a[0])\n",
    "c=int(a[1])\n",
    "for i in range(1,(b+1)*(c+1)):\n",
    "    if(i%b==0 and i%c==0):\n",
    "        print(i)\n",
    "        break\n",
    "# 12 答案"
   ]
  },
  {
   "cell_type": "code",
   "execution_count": 7,
   "metadata": {},
   "outputs": [
    {
     "name": "stdout",
     "output_type": "stream",
     "text": [
      "56\n"
     ]
    }
   ],
   "source": [
    "import math\n",
    "a = input().split()\n",
    "b = int(a[0])\n",
    "c = int(a[1])\n",
    "lcm= math.lcm(b, c)\n",
    "print(lcm)\n",
    "# 12 簡單但錯"
   ]
  },
  {
   "cell_type": "code",
   "execution_count": null,
   "metadata": {},
   "outputs": [],
   "source": [
    "a = input()\n",
    "print( ''.join(char.upper() if i % 2 == 0 else char.lower() for i, char in enumerate(a)))\n",
    "# 13 答案"
   ]
  },
  {
   "cell_type": "code",
   "execution_count": null,
   "metadata": {},
   "outputs": [
    {
     "name": "stdout",
     "output_type": "stream",
     "text": [
      "Invalid\n"
     ]
    }
   ],
   "source": [
    "a=input().split()\n",
    "b=int(a[0])\n",
    "c=int(a[1])\n",
    "d=int(a[2])\n",
    "if(b+c>d and b+d>c):\n",
    "    print(\"Valid\")\n",
    "else:\n",
    "    print(\"Invalid\")\n",
    "# 14 答案"
   ]
  },
  {
   "cell_type": "code",
   "execution_count": 1,
   "metadata": {},
   "outputs": [
    {
     "name": "stdout",
     "output_type": "stream",
     "text": [
      "cake banana apple "
     ]
    }
   ],
   "source": [
    "a=input().split()\n",
    "for i in range(len(a)-1,-1,-1):\n",
    "    print(a[i],end=\" \")\n",
    "# 15 答案"
   ]
  },
  {
   "cell_type": "code",
   "execution_count": 23,
   "metadata": {},
   "outputs": [
    {
     "name": "stdout",
     "output_type": "stream",
     "text": [
      "01:04:05\n"
     ]
    }
   ],
   "source": [
    "a=int(input())\n",
    "b=int(a/3600)\n",
    "c=int((a-b*3600)/60)\n",
    "d=a%60\n",
    "print(f\"{b:02d}:{c:02d}:{d:02d}\")\n",
    "# 17 答案"
   ]
  },
  {
   "cell_type": "code",
   "execution_count": 23,
   "metadata": {},
   "outputs": [
    {
     "name": "stdout",
     "output_type": "stream",
     "text": [
      "2097 is common year\n"
     ]
    }
   ],
   "source": [
    "a=int(input())\n",
    "if((a%4==0 and a%100!=0) or (a%100==0 and a%400==0)):\n",
    "    print(a,\"is leap year\")\n",
    "else:\n",
    "    print(a,\"is common year\")\n",
    "# 18 答案"
   ]
  },
  {
   "cell_type": "code",
   "execution_count": 33,
   "metadata": {},
   "outputs": [
    {
     "name": "stdout",
     "output_type": "stream",
     "text": [
      "5*1= 5 5*2=10 5*3=15 5*4=20 5*5=25 5*6=30 5*7=35 5*8=40 5*9=45 \n",
      "6*1= 6 6*2=12 6*3=18 6*4=24 6*5=30 6*6=36 6*7=42 6*8=48 6*9=54 \n",
      "7*1= 7 7*2=14 7*3=21 7*4=28 7*5=35 7*6=42 7*7=49 7*8=56 7*9=63 \n",
      "8*1= 8 8*2=16 8*3=24 8*4=32 8*5=40 8*6=48 8*7=56 8*8=64 8*9=72 \n",
      "9*1= 9 9*2=18 9*3=27 9*4=36 9*5=45 9*6=54 9*7=63 9*8=72 9*9=81 \n"
     ]
    }
   ],
   "source": [
    "a=int(input())\n",
    "for i in range(a,10):\n",
    "    for s in range(1,10):\n",
    "        print(\"%d*%d=%d\"%(i,s,i*s),end=\" \")\n",
    "    print()\n",
    "# 19答案"
   ]
  },
  {
   "cell_type": "code",
   "execution_count": 10,
   "metadata": {},
   "outputs": [
    {
     "name": "stdout",
     "output_type": "stream",
     "text": [
      "76\n"
     ]
    }
   ],
   "source": [
    "a=int(input())\n",
    "sum=0\n",
    "for i in range(15,a+1):\n",
    "    if(i%2==0):\n",
    "        sum+=i\n",
    "print(sum)\n",
    "# 20 答案"
   ]
  },
  {
   "cell_type": "code",
   "execution_count": 9,
   "metadata": {},
   "outputs": [
    {
     "name": "stdout",
     "output_type": "stream",
     "text": [
      "Ans 123\n"
     ]
    }
   ],
   "source": [
    "a=input()\n",
    "print(\"Ans \"+a)\n",
    "# 21 答案"
   ]
  },
  {
   "cell_type": "code",
   "execution_count": 38,
   "metadata": {},
   "outputs": [
    {
     "name": "stdout",
     "output_type": "stream",
     "text": [
      "21\n"
     ]
    }
   ],
   "source": [
    "a=input().split()\n",
    "sum=0\n",
    "for i in a:\n",
    "    sum+=int(i)\n",
    "print(sum)\n",
    "# 22 答案"
   ]
  },
  {
   "cell_type": "code",
   "execution_count": 3,
   "metadata": {},
   "outputs": [
    {
     "name": "stdout",
     "output_type": "stream",
     "text": [
      "17\n"
     ]
    }
   ],
   "source": [
    "a=input()\n",
    "print(len(a))\n",
    "# 23 答案"
   ]
  },
  {
   "cell_type": "code",
   "execution_count": 6,
   "metadata": {},
   "outputs": [
    {
     "name": "stdout",
     "output_type": "stream",
     "text": [
      "75\n"
     ]
    }
   ],
   "source": [
    "a=int(input())\n",
    "sum=0\n",
    "for i in range(10,a+1):\n",
    "    sum+=i\n",
    "print(sum)\n",
    "# 24 答案\n"
   ]
  },
  {
   "cell_type": "code",
   "execution_count": 42,
   "metadata": {},
   "outputs": [
    {
     "name": "stdout",
     "output_type": "stream",
     "text": [
      "37.5 is over\n"
     ]
    }
   ],
   "source": [
    "a=float(input())\n",
    "if(a>=37.5):\n",
    "    print(a,\"is over\")\n",
    "if(a>=37 and a<37.5):\n",
    "    print(a,\"is little over\")\n",
    "if(a>=34 and a<=36.9):\n",
    "    print(a,\"is normal\")\n",
    "if(a<34):\n",
    "    print(a,\"is error\")\n",
    "# 25 答案"
   ]
  },
  {
   "cell_type": "code",
   "execution_count": 49,
   "metadata": {},
   "outputs": [
    {
     "name": "stdout",
     "output_type": "stream",
     "text": [
      "-4 is erro\n"
     ]
    }
   ],
   "source": [
    "a=int(input())\n",
    "if(a>100 or a<0):\n",
    "    print(a,\"is error\")\n",
    "if(a>=90 and a<=100):\n",
    "    print(a,\"is A\")\n",
    "if(a>=80 and a<=89):\n",
    "    print(a,\"is B\")\n",
    "if(a>=70 and a<=79):\n",
    "    print(a,\"is C\")\n",
    "if(a>=60 and a<=69):\n",
    "    print(a,\"is D\")\n",
    "if(a>=0 and a<=59):\n",
    "    print(a,\"is E\")    \n",
    "# 26 答案"
   ]
  },
  {
   "cell_type": "code",
   "execution_count": null,
   "metadata": {},
   "outputs": [],
   "source": [
    "a=int(input())\n",
    "if(a<1 or a>12):\n",
    "    print(\"input error\")\n",
    "if(a<=5 and a>=3):\n",
    "    print(a,\"is spring\")\n",
    "if(a<=8 and a>=6):\n",
    "    print(a,\"is summer\")\n",
    "if(a<=11 and a>=9):\n",
    "    print(a,\"is autumn\")\n",
    "if(a==12 or a==1 or a==2):\n",
    "    print(a,\"is winter\")\n",
    "# 27 答案"
   ]
  },
  {
   "cell_type": "code",
   "execution_count": 6,
   "metadata": {},
   "outputs": [
    {
     "name": "stdout",
     "output_type": "stream",
     "text": [
      "pay 600000.0 money\n"
     ]
    }
   ],
   "source": [
    "a=int(input())\n",
    "if(a>=2000000):\n",
    "    print(f\"pay {(a*0.3):0.1f} money\")\n",
    "elif(a>=1000000 and a<2000000):\n",
    "    print(f\"pay {(a*0.21):0.1f} money\")\n",
    "elif(a>=600000 and a<=1000000):\n",
    "    print(f\"pay {(a*0.13):0.1f} money\")\n",
    "elif(a>=300000 and a<=600000):\n",
    "    print(f\"pay {(a*0.06):0.1f} money\")\n",
    "else:\n",
    "    print(\"pay 0 money\")\n",
    "# 28 答案\n"
   ]
  },
  {
   "cell_type": "code",
   "execution_count": 7,
   "metadata": {},
   "outputs": [
    {
     "name": "stdout",
     "output_type": "stream",
     "text": [
      "95% discount is 28499.0\n"
     ]
    }
   ],
   "source": [
    "a=int(input())\n",
    "if(a>=100000):\n",
    "    print(f\"80% discount is {a*0.8}\")\n",
    "elif(a>=50000 and a<100000):\n",
    "    print(f\"85% discount is {a*0.85}\")\n",
    "elif(a>=30000 and a<50000):\n",
    "    print(f\"90% discount is {a*0.9}\")\n",
    "elif(a>=10000 and a<30000):\n",
    "    print(f\"95% discount is {a*0.95}\")\n",
    "else:\n",
    "    print(f\"no discount is {a}\")\n",
    "# 29 答案"
   ]
  },
  {
   "cell_type": "code",
   "execution_count": 1,
   "metadata": {},
   "outputs": [
    {
     "name": "stdout",
     "output_type": "stream",
     "text": [
      "0,5,10,15,20,25,30,35,40,45,50,55,60,65,70,75,80,85,90,95,"
     ]
    }
   ],
   "source": [
    "a=input().split()\n",
    "b=int(a[0])\n",
    "c=int(a[1])\n",
    "d=int(a[2])\n",
    "for i in range(b,c,d):\n",
    "    print(i,end=\",\")\n",
    "# 30 答案"
   ]
  },
  {
   "cell_type": "code",
   "execution_count": 14,
   "metadata": {},
   "outputs": [
    {
     "name": "stdout",
     "output_type": "stream",
     "text": [
      "sum:27\n",
      "squ:5.196152422706632\n",
      "squi:5\n",
      "squi is odd\n"
     ]
    }
   ],
   "source": [
    "a=list(map(int,input().split()))\n",
    "print(f\"sum:{sum(a)}\")\n",
    "print(f\"squ:{sum(a)**0.5}\")\n",
    "print(f\"squi:{int(sum(a)**0.5)}\")\n",
    "if(int(sum(a)**0.5)%2==0):\n",
    "    print(\"squi is even\")\n",
    "else:\n",
    "    print(\"squi is odd\")\n",
    "# 31 答案"
   ]
  },
  {
   "cell_type": "code",
   "execution_count": 2,
   "metadata": {},
   "outputs": [
    {
     "name": "stdout",
     "output_type": "stream",
     "text": [
      "[3, 4, 5, 6, 7]\n"
     ]
    }
   ],
   "source": [
    "a=input().split()\n",
    "b=int(a[0])\n",
    "c=int(a[1])\n",
    "d=int(a[2])\n",
    "e=range(b,c,d)\n",
    "print(list(e))\n",
    "# 32 答案"
   ]
  },
  {
   "cell_type": "code",
   "execution_count": null,
   "metadata": {},
   "outputs": [],
   "source": [
    "a=input().split()\n",
    "b=(a[0])\n",
    "c=(a[1])\n",
    "d=(a[2])\n",
    "if(b==c or c==d or b==d or b==c==d):\n",
    "    print(\"Valid\")\n",
    "else:\n",
    "    print(\"Invalid\")\n",
    "# 33 答案\n"
   ]
  },
  {
   "cell_type": "code",
   "execution_count": 12,
   "metadata": {},
   "outputs": [
    {
     "name": "stdout",
     "output_type": "stream",
     "text": [
      "park time:11h:9m\n",
      "pay:300 money\n"
     ]
    }
   ],
   "source": [
    "a=int(input())\n",
    "b=a//60\n",
    "c=a-(a//60)*60\n",
    "d=b*40\n",
    "print(f\"park time:{b}h:{c}m\")\n",
    "if(c==0):\n",
    "    if(d>300):\n",
    "        print(f\"pay:300 money\")\n",
    "    else:\n",
    "        print(f\"pay:{d} money\")\n",
    "elif(c!=0):\n",
    "    if(d+20>300):\n",
    "        print(f\"pay:300 money\")\n",
    "    else:\n",
    "        print(f\"pay:{d+20} money\")\n",
    "# 34 答案"
   ]
  },
  {
   "cell_type": "code",
   "execution_count": 18,
   "metadata": {},
   "outputs": [
    {
     "name": "stdout",
     "output_type": "stream",
     "text": [
      "370,371,407,"
     ]
    }
   ],
   "source": [
    "a,b=map(int,input().split())\n",
    "for i in range(a,b):\n",
    "    c=i//100\n",
    "    d=(i%100)//10\n",
    "    e=i-c*100-d*10\n",
    "    if(c**3+d**3+e**3==i):\n",
    "        print(i,end=\",\")\n",
    "# 35 答案"
   ]
  },
  {
   "cell_type": "code",
   "execution_count": 21,
   "metadata": {},
   "outputs": [
    {
     "name": "stdout",
     "output_type": "stream",
     "text": [
      "Tku Samuel "
     ]
    }
   ],
   "source": [
    "a=input()\n",
    "print(\"Tku\",a,end=\" \")\n",
    "# 36 答案"
   ]
  },
  {
   "cell_type": "code",
   "execution_count": 26,
   "metadata": {},
   "outputs": [
    {
     "name": "stdout",
     "output_type": "stream",
     "text": [
      "29\n"
     ]
    }
   ],
   "source": [
    "a=input()\n",
    "print(len(a))\n",
    "# 37 答案"
   ]
  },
  {
   "cell_type": "code",
   "execution_count": 27,
   "metadata": {},
   "outputs": [
    {
     "name": "stdout",
     "output_type": "stream",
     "text": [
      "29.00\n"
     ]
    }
   ],
   "source": [
    "a=input()\n",
    "b=len(a)\n",
    "print(f\"{b:0.2f}\")\n",
    "# 38 答案"
   ]
  },
  {
   "cell_type": "code",
   "execution_count": 31,
   "metadata": {},
   "outputs": [
    {
     "name": "stdout",
     "output_type": "stream",
     "text": [
      "22583.325\n"
     ]
    }
   ],
   "source": [
    "a=float(input())\n",
    "b=float(input())\n",
    "c=float(input())\n",
    "e=(a+b)*c/2\n",
    "print(e)\n",
    "# 39 答案"
   ]
  }
 ],
 "metadata": {
  "kernelspec": {
   "display_name": "Python 3",
   "language": "python",
   "name": "python3"
  },
  "language_info": {
   "codemirror_mode": {
    "name": "ipython",
    "version": 3
   },
   "file_extension": ".py",
   "mimetype": "text/x-python",
   "name": "python",
   "nbconvert_exporter": "python",
   "pygments_lexer": "ipython3",
   "version": "3.12.4"
  }
 },
 "nbformat": 4,
 "nbformat_minor": 2
}
