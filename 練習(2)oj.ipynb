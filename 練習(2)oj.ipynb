{
 "cells": [
  {
   "cell_type": "code",
   "execution_count": 14,
   "metadata": {},
   "outputs": [
    {
     "name": "stdout",
     "output_type": "stream",
     "text": [
      "hello world\n"
     ]
    }
   ],
   "source": [
    "print(\"hello world\")\n",
    "# 1"
   ]
  },
  {
   "cell_type": "code",
   "execution_count": 15,
   "metadata": {},
   "outputs": [
    {
     "name": "stdout",
     "output_type": "stream",
     "text": [
      "1\n"
     ]
    }
   ],
   "source": [
    "a=str(input())\n",
    "print(len(a))\n",
    "# 2"
   ]
  },
  {
   "cell_type": "code",
   "execution_count": 16,
   "metadata": {},
   "outputs": [
    {
     "ename": "IndexError",
     "evalue": "list index out of range",
     "output_type": "error",
     "traceback": [
      "\u001b[1;31m---------------------------------------------------------------------------\u001b[0m",
      "\u001b[1;31mIndexError\u001b[0m                                Traceback (most recent call last)",
      "Cell \u001b[1;32mIn[16], line 3\u001b[0m\n\u001b[0;32m      1\u001b[0m a\u001b[38;5;241m=\u001b[39m\u001b[38;5;28minput\u001b[39m()\u001b[38;5;241m.\u001b[39msplit(\u001b[38;5;124m\"\u001b[39m\u001b[38;5;124m+\u001b[39m\u001b[38;5;124m\"\u001b[39m)\n\u001b[0;32m      2\u001b[0m b\u001b[38;5;241m=\u001b[39m\u001b[38;5;28mint\u001b[39m(a[\u001b[38;5;241m0\u001b[39m])\n\u001b[1;32m----> 3\u001b[0m c\u001b[38;5;241m=\u001b[39m\u001b[38;5;28mint\u001b[39m(\u001b[43ma\u001b[49m\u001b[43m[\u001b[49m\u001b[38;5;241;43m1\u001b[39;49m\u001b[43m]\u001b[49m)\n\u001b[0;32m      4\u001b[0m d\u001b[38;5;241m=\u001b[39mb\u001b[38;5;241m+\u001b[39mc\n\u001b[0;32m      5\u001b[0m \u001b[38;5;28mprint\u001b[39m(d)\n",
      "\u001b[1;31mIndexError\u001b[0m: list index out of range"
     ]
    }
   ],
   "source": [
    "a=input().split(\"+\")\n",
    "b=int(a[0])\n",
    "c=int(a[1])\n",
    "d=b+c\n",
    "print(d)\n",
    "# 3\n"
   ]
  },
  {
   "cell_type": "code",
   "execution_count": null,
   "metadata": {},
   "outputs": [
    {
     "name": "stdout",
     "output_type": "stream",
     "text": [
      "1 2 3 1 2 3 1 2 3 "
     ]
    }
   ],
   "source": [
    "a=input().split()\n",
    "b=int(a[0])\n",
    "c=int(a[1])\n",
    "d=int(a[2])\n",
    "print(b,c,d,b,c,d,b,c,d,end=\" \")\n",
    "# 4"
   ]
  },
  {
   "cell_type": "code",
   "execution_count": null,
   "metadata": {},
   "outputs": [
    {
     "name": "stdout",
     "output_type": "stream",
     "text": [
      "banana orange apple "
     ]
    }
   ],
   "source": [
    "a=input().split()\n",
    "b=str(a[0])\n",
    "c=str(a[1])\n",
    "d=str(a[2])\n",
    "print(d,c,b,end=\" \")\n",
    "# 5"
   ]
  },
  {
   "cell_type": "code",
   "execution_count": null,
   "metadata": {},
   "outputs": [
    {
     "name": "stdout",
     "output_type": "stream",
     "text": [
      "['1', '2', '3', '...', '1000']\n",
      "5\n",
      "500500\n"
     ]
    }
   ],
   "source": [
    "a=input().split(\".\" and \"+\")\n",
    "print(a)\n",
    "b=len(a)\n",
    "print(b)\n",
    "c=int(a[0])\n",
    "d=int(a[b-1])\n",
    "e=(c+d)*d/2\n",
    "e=int(e)\n",
    "print(e)\n",
    "# 6 完整"
   ]
  },
  {
   "cell_type": "code",
   "execution_count": null,
   "metadata": {},
   "outputs": [
    {
     "name": "stdout",
     "output_type": "stream",
     "text": [
      "5050\n"
     ]
    }
   ],
   "source": [
    "a=input().split(\".\" and \"+\")\n",
    "b=len(a)\n",
    "c=int(a[0])\n",
    "d=int(a[b-1])\n",
    "e=(c+d)*d/2\n",
    "e=int(e)\n",
    "print(e)\n",
    "# 6 答案1"
   ]
  },
  {
   "cell_type": "code",
   "execution_count": null,
   "metadata": {},
   "outputs": [
    {
     "name": "stdout",
     "output_type": "stream",
     "text": [
      "5050\n"
     ]
    }
   ],
   "source": [
    "a=input()\n",
    "print(int((1+100)*100/2))\n",
    "# 6 正答"
   ]
  },
  {
   "cell_type": "code",
   "execution_count": null,
   "metadata": {},
   "outputs": [
    {
     "name": "stdout",
     "output_type": "stream",
     "text": [
      "Input Error\n"
     ]
    }
   ],
   "source": [
    "a=int(input())\n",
    "if(a<0):\n",
    "    print(\"Input Error\")\n",
    "if(a%2==0 and a>=0):\n",
    "    print(a,\"is even\",end=\" \")\n",
    "if(a%2!=0):\n",
    "    print(a,\"is odd\",end=\" \")\n",
    "# 7 答案"
   ]
  },
  {
   "cell_type": "code",
   "execution_count": null,
   "metadata": {},
   "outputs": [],
   "source": [
    "a=int(input())\n",
    "if(a<=0 or a>=13):\n",
    "    print(\"Input Error\")\n",
    "if(a<=3 and a>=1):\n",
    "    print(a,\"is spring\")\n",
    "if(a<=6 and a>=4):\n",
    "    print(a,\"is summer\")\n",
    "if(a<=9 and a>=7):\n",
    "    print(a,\"is autumn\")\n",
    "if(a<=12 and a>=10):\n",
    "    print(a,\"is winter\")\n",
    "# 8 答案"
   ]
  },
  {
   "cell_type": "code",
   "execution_count": null,
   "metadata": {},
   "outputs": [
    {
     "name": "stdout",
     "output_type": "stream",
     "text": [
      "440 yuan\n"
     ]
    }
   ],
   "source": [
    "a=int(input())\n",
    "if(a<0):\n",
    "    print(\"Input Error\")\n",
    "elif(a==0):\n",
    "    print(\"0 yuan\")\n",
    "elif(a<=5 and a>=1):\n",
    "    print(\"240 yuan\")\n",
    "else:\n",
    "    print((a-5)*40+240,\"yuan\")\n",
    "# 9 答案"
   ]
  },
  {
   "cell_type": "code",
   "execution_count": null,
   "metadata": {},
   "outputs": [
    {
     "name": "stdout",
     "output_type": "stream",
     "text": [
      "100000.0\n"
     ]
    }
   ],
   "source": [
    "a=int(input())\n",
    "if(a<0):\n",
    "    print(\"Input Error\")\n",
    "else:\n",
    "    print(100000*(1+0.03)**a)\n",
    "# 10 答案"
   ]
  },
  {
   "cell_type": "code",
   "execution_count": null,
   "metadata": {},
   "outputs": [],
   "source": [
    "a=input().split()\n",
    "b=int(a[0])\n",
    "c=int(a[1])\n",
    "d=int(a[2])\n",
    "if(b<c and b<d):\n",
    "    print(b)\n",
    "elif(c<b and c<d):\n",
    "    print(c)\n",
    "else:\n",
    "    print(d)\n",
    "# 2-1 答案"
   ]
  },
  {
   "cell_type": "code",
   "execution_count": null,
   "metadata": {},
   "outputs": [
    {
     "name": "stdout",
     "output_type": "stream",
     "text": [
      "30\n"
     ]
    }
   ],
   "source": [
    "a=input().split()\n",
    "b=float(a[0])\n",
    "c=float(a[1])\n",
    "d=float(a[2])\n",
    "if(b>c and b>d):\n",
    "    print(b)\n",
    "elif(c>b and c>d):\n",
    "    print(c)\n",
    "else:\n",
    "    print(d)\n",
    "# 2-2 答案"
   ]
  },
  {
   "cell_type": "code",
   "execution_count": null,
   "metadata": {},
   "outputs": [
    {
     "name": "stdout",
     "output_type": "stream",
     "text": [
      "1 2 4 5 8 10 20 40 "
     ]
    }
   ],
   "source": [
    "a=int(input())\n",
    "for i in range(1,a+1):\n",
    "    if(a%i==0):\n",
    "        print(i,end=(\" \"))\n",
    "# 2-3 答案"
   ]
  },
  {
   "cell_type": "code",
   "execution_count": null,
   "metadata": {},
   "outputs": [
    {
     "name": "stdout",
     "output_type": "stream",
     "text": [
      "84\n"
     ]
    }
   ],
   "source": [
    "a=int(input())\n",
    "sum=0\n",
    "for i in range(1,a+1):\n",
    "    if(i%3==0 or i%7==0):\n",
    "        sum+=i\n",
    "print(sum)\n",
    "# 2-4 答案"
   ]
  },
  {
   "cell_type": "code",
   "execution_count": null,
   "metadata": {},
   "outputs": [
    {
     "name": "stdout",
     "output_type": "stream",
     "text": [
      "*\n",
      "**\n",
      "***\n",
      "****\n",
      "*****\n"
     ]
    }
   ],
   "source": [
    "a=int(input())\n",
    "for i in range(1,a+1):\n",
    "    print(\"*\"*i)\n",
    "# 2-5 答案"
   ]
  },
  {
   "cell_type": "code",
   "execution_count": null,
   "metadata": {},
   "outputs": [
    {
     "name": "stdout",
     "output_type": "stream",
     "text": [
      "1234512345123451234512345\n"
     ]
    }
   ],
   "source": [
    "a=int(input())\n",
    "for c in range(1,a+1):\n",
    "    for i in range(1,a+1):\n",
    "        print(i,end=\"\")\n",
    "print(end=\"\\n\")\n",
    "# 2-6"
   ]
  },
  {
   "cell_type": "code",
   "execution_count": 2,
   "metadata": {},
   "outputs": [
    {
     "name": "stdout",
     "output_type": "stream",
     "text": [
      "10\n"
     ]
    }
   ],
   "source": [
    "a=input().split()\n",
    "b=int(a[0])\n",
    "c=int(a[1])\n",
    "d=[]\n",
    "for i in range(1,min(b,c)+1):\n",
    "        if(b%i==0 and c%i==0):\n",
    "                d.append(i)\n",
    "print(max(d))\n",
    "# 2-7 答案"
   ]
  },
  {
   "cell_type": "code",
   "execution_count": 8,
   "metadata": {},
   "outputs": [
    {
     "name": "stdout",
     "output_type": "stream",
     "text": [
      "10\n"
     ]
    }
   ],
   "source": [
    "import math\n",
    "\n",
    "a = input().split()\n",
    "b = int(a[0])\n",
    "c = int(a[1])\n",
    "\n",
    "# 計算 b 和 c 的最大公因數\n",
    "gcd = math.gcd(b, c)\n",
    "\n",
    "print(gcd)\n",
    "# 2-7 簡單但錯"
   ]
  },
  {
   "cell_type": "code",
   "execution_count": 14,
   "metadata": {},
   "outputs": [
    {
     "name": "stdout",
     "output_type": "stream",
     "text": [
      "22600\n"
     ]
    }
   ],
   "source": [
    "import math\n",
    "a = input().split()\n",
    "b = int(a[0])\n",
    "c = int(a[1])\n",
    "lcm= math.lcm(b, c)\n",
    "print(lcm)\n",
    "# 2-8 簡單但錯"
   ]
  },
  {
   "cell_type": "code",
   "execution_count": null,
   "metadata": {},
   "outputs": [
    {
     "name": "stdout",
     "output_type": "stream",
     "text": [
      "Invalid\n"
     ]
    }
   ],
   "source": [
    "a=input().split()\n",
    "b=int(a[0])\n",
    "c=int(a[1])\n",
    "d=int(a[2])\n",
    "if(b+c>d and b+d>c):\n",
    "    print(\"Valid\")\n",
    "else:\n",
    "    print(\"Invalid\")\n",
    "# 2-10 答案"
   ]
  }
 ],
 "metadata": {
  "kernelspec": {
   "display_name": "Python 3",
   "language": "python",
   "name": "python3"
  },
  "language_info": {
   "codemirror_mode": {
    "name": "ipython",
    "version": 3
   },
   "file_extension": ".py",
   "mimetype": "text/x-python",
   "name": "python",
   "nbconvert_exporter": "python",
   "pygments_lexer": "ipython3",
   "version": "3.11.9"
  }
 },
 "nbformat": 4,
 "nbformat_minor": 2
}
