{
 "cells": [
  {
   "cell_type": "code",
   "execution_count": null,
   "metadata": {},
   "outputs": [],
   "source": [
    "print(\"hello world\")\n",
    "# 1"
   ]
  },
  {
   "cell_type": "code",
   "execution_count": 2,
   "metadata": {},
   "outputs": [
    {
     "name": "stdout",
     "output_type": "stream",
     "text": [
      "12\n"
     ]
    }
   ],
   "source": [
    "a=str(input())\n",
    "print(len(a))\n",
    "# 2"
   ]
  },
  {
   "cell_type": "code",
   "execution_count": 10,
   "metadata": {},
   "outputs": [
    {
     "name": "stdout",
     "output_type": "stream",
     "text": [
      "1245\n"
     ]
    }
   ],
   "source": [
    "a=input().split(\"+\")\n",
    "b=int(a[0])\n",
    "c=int(a[1])\n",
    "d=b+c\n",
    "print(d)\n",
    "# 3\n"
   ]
  },
  {
   "cell_type": "code",
   "execution_count": 14,
   "metadata": {},
   "outputs": [
    {
     "name": "stdout",
     "output_type": "stream",
     "text": [
      "1 2 3 1 2 3 1 2 3 "
     ]
    }
   ],
   "source": [
    "a=input().split()\n",
    "b=int(a[0])\n",
    "c=int(a[1])\n",
    "d=int(a[2])\n",
    "print(b,c,d,b,c,d,b,c,d,end=\" \")\n",
    "# 4"
   ]
  },
  {
   "cell_type": "code",
   "execution_count": 15,
   "metadata": {},
   "outputs": [
    {
     "name": "stdout",
     "output_type": "stream",
     "text": [
      "banana orange apple "
     ]
    }
   ],
   "source": [
    "a=input().split()\n",
    "b=str(a[0])\n",
    "c=str(a[1])\n",
    "d=str(a[2])\n",
    "print(d,c,b,end=\" \")\n",
    "# 5"
   ]
  },
  {
   "cell_type": "code",
   "execution_count": 34,
   "metadata": {},
   "outputs": [
    {
     "name": "stdout",
     "output_type": "stream",
     "text": [
      "['1', '2', '3', '...', '1000']\n",
      "5\n",
      "500500\n"
     ]
    }
   ],
   "source": [
    "a=input().split(\".\" and \"+\")\n",
    "print(a)\n",
    "b=len(a)\n",
    "print(b)\n",
    "c=int(a[0])\n",
    "d=int(a[b-1])\n",
    "e=(c+d)*d/2\n",
    "e=int(e)\n",
    "print(e)\n",
    "# 6 完整"
   ]
  },
  {
   "cell_type": "code",
   "execution_count": 36,
   "metadata": {},
   "outputs": [
    {
     "name": "stdout",
     "output_type": "stream",
     "text": [
      "5050\n"
     ]
    }
   ],
   "source": [
    "a=input().split(\".\" and \"+\")\n",
    "b=len(a)\n",
    "c=int(a[0])\n",
    "d=int(a[b-1])\n",
    "e=(c+d)*d/2\n",
    "e=int(e)\n",
    "print(e)\n",
    "# 6 答案1"
   ]
  },
  {
   "cell_type": "code",
   "execution_count": 38,
   "metadata": {},
   "outputs": [
    {
     "name": "stdout",
     "output_type": "stream",
     "text": [
      "5050\n"
     ]
    }
   ],
   "source": [
    "a=input()\n",
    "print(int((1+100)*100/2))\n",
    "# 6 正答"
   ]
  },
  {
   "cell_type": "code",
   "execution_count": 11,
   "metadata": {},
   "outputs": [
    {
     "name": "stdout",
     "output_type": "stream",
     "text": [
      "Input Error\n"
     ]
    }
   ],
   "source": [
    "a=int(input())\n",
    "if(a<0):\n",
    "    print(\"Input Error\")\n",
    "if(a%2==0 and a>=0):\n",
    "    print(a,\"is even\",end=\" \")\n",
    "if(a%2!=0):\n",
    "    print(a,\"is odd\",end=\" \")\n",
    "# 7 答案"
   ]
  },
  {
   "cell_type": "code",
   "execution_count": null,
   "metadata": {},
   "outputs": [],
   "source": [
    "a=int(input())\n",
    "if(a<=0 or a>=13):\n",
    "    print(\"Input Error\")\n",
    "if(a<=3 and a>=1):\n",
    "    print(a,\"is spring\")\n",
    "if(a<=6 and a>=4):\n",
    "    print(a,\"is summer\")\n",
    "if(a<=9 and a>=7):\n",
    "    print(a,\"is autumn\")\n",
    "if(a<=12 and a>=10):\n",
    "    print(a,\"is winter\")\n",
    "# 8 答案"
   ]
  },
  {
   "cell_type": "code",
   "execution_count": 6,
   "metadata": {},
   "outputs": [
    {
     "name": "stdout",
     "output_type": "stream",
     "text": [
      "440 yuan\n"
     ]
    }
   ],
   "source": [
    "a=int(input())\n",
    "if(a<0):\n",
    "    print(\"Input Error\")\n",
    "elif(a==0):\n",
    "    print(\"0 yuan\")\n",
    "elif(a<=5 and a>=1):\n",
    "    print(\"240 yuan\")\n",
    "else:\n",
    "    print((a-5)*40+240,\"yuan\")\n",
    "# 9 答案"
   ]
  },
  {
   "cell_type": "code",
   "execution_count": 7,
   "metadata": {},
   "outputs": [
    {
     "name": "stdout",
     "output_type": "stream",
     "text": [
      "100000.0\n"
     ]
    }
   ],
   "source": [
    "a=int(input())\n",
    "if(a<0):\n",
    "    print(\"Input Error\")\n",
    "else:\n",
    "    print(100000*(1+0.03)**a)\n",
    "# 10 答案"
   ]
  },
  {
   "cell_type": "code",
   "execution_count": null,
   "metadata": {},
   "outputs": [],
   "source": [
    "a=input().split()\n",
    "b=int(a[0])\n",
    "c=int(a[1])\n",
    "d=int(a[2])\n",
    "if(b<c and b<d):\n",
    "    print(b)\n",
    "elif(c<b and c<d):\n",
    "    print(c)\n",
    "else:\n",
    "    print(d)\n",
    "# 2-1 答案"
   ]
  },
  {
   "cell_type": "code",
   "execution_count": 12,
   "metadata": {},
   "outputs": [
    {
     "name": "stdout",
     "output_type": "stream",
     "text": [
      "30\n"
     ]
    }
   ],
   "source": [
    "a=input().split()\n",
    "b=float(a[0])\n",
    "c=float(a[1])\n",
    "d=float(a[2])\n",
    "if(b>c and b>d):\n",
    "    print(b)\n",
    "elif(c>b and c>d):\n",
    "    print(c)\n",
    "else:\n",
    "    print(d)\n",
    "# 2-2 答案"
   ]
  },
  {
   "cell_type": "code",
   "execution_count": 24,
   "metadata": {},
   "outputs": [
    {
     "name": "stdout",
     "output_type": "stream",
     "text": [
      "1 2 4 5 8 10 20 40 "
     ]
    }
   ],
   "source": [
    "a=int(input())\n",
    "for i in range(1,a+1):\n",
    "    if(a%i==0):\n",
    "        print(i,end=(\" \"))\n",
    "# 2-3 答案"
   ]
  },
  {
   "cell_type": "code",
   "execution_count": 25,
   "metadata": {},
   "outputs": [
    {
     "name": "stdout",
     "output_type": "stream",
     "text": [
      "84\n"
     ]
    }
   ],
   "source": [
    "a=int(input())\n",
    "sum=0\n",
    "for i in range(1,a+1):\n",
    "    if(i%3==0 or i%7==0):\n",
    "        sum+=i\n",
    "print(sum)\n",
    "# 2-4 答案"
   ]
  },
  {
   "cell_type": "code",
   "execution_count": null,
   "metadata": {},
   "outputs": [],
   "source": []
  }
 ],
 "metadata": {
  "kernelspec": {
   "display_name": "Python 3",
   "language": "python",
   "name": "python3"
  },
  "language_info": {
   "codemirror_mode": {
    "name": "ipython",
    "version": 3
   },
   "file_extension": ".py",
   "mimetype": "text/x-python",
   "name": "python",
   "nbconvert_exporter": "python",
   "pygments_lexer": "ipython3",
   "version": "3.11.9"
  }
 },
 "nbformat": 4,
 "nbformat_minor": 2
}
