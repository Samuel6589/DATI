{
 "cells": [
  {
   "cell_type": "code",
   "execution_count": 8,
   "metadata": {},
   "outputs": [
    {
     "name": "stdout",
     "output_type": "stream",
     "text": [
      "a=str(input()) print(a,end=\"\\n\") a=str(a) b=len(a) print(b,\"letters\")\n",
      "69 letters\n"
     ]
    }
   ],
   "source": [
    "a=str(input())\n",
    "print(a,end=\"\\n\")\n",
    "a=str(a)\n",
    "b=len(a)\n",
    "print(b,\"letters\")\n",
    "# oj 比賽-1\n"
   ]
  },
  {
   "cell_type": "code",
   "execution_count": 30,
   "metadata": {},
   "outputs": [
    {
     "name": "stdout",
     "output_type": "stream",
     "text": [
      "a=2.449489742783178 b=2.6457513110645907\n",
      "ans=5.095241053847769\n"
     ]
    }
   ],
   "source": [
    "c=input().split()\n",
    "a=float(c[0])\n",
    "b=float(c[1])\n",
    "a1=a**0.5\n",
    "b1=b**0.5\n",
    "print(f\"a={a1} b={b1}\")\n",
    "print(f\"ans={a1+b1}\")\n",
    "# oj 比賽-2"
   ]
  },
  {
   "cell_type": "code",
   "execution_count": 33,
   "metadata": {},
   "outputs": [
    {
     "ename": "IndexError",
     "evalue": "list index out of range",
     "output_type": "error",
     "traceback": [
      "\u001b[1;31m---------------------------------------------------------------------------\u001b[0m",
      "\u001b[1;31mIndexError\u001b[0m                                Traceback (most recent call last)",
      "Cell \u001b[1;32mIn[33], line 3\u001b[0m\n\u001b[0;32m      1\u001b[0m c\u001b[38;5;241m=\u001b[39m\u001b[38;5;28minput\u001b[39m()\u001b[38;5;241m.\u001b[39msplit()\n\u001b[0;32m      2\u001b[0m a\u001b[38;5;241m=\u001b[39m\u001b[38;5;28mfloat\u001b[39m(c[\u001b[38;5;241m0\u001b[39m])\n\u001b[1;32m----> 3\u001b[0m b\u001b[38;5;241m=\u001b[39m\u001b[38;5;28mfloat\u001b[39m(\u001b[43mc\u001b[49m\u001b[43m[\u001b[49m\u001b[38;5;241;43m1\u001b[39;49m\u001b[43m]\u001b[49m)\n\u001b[0;32m      4\u001b[0m d\u001b[38;5;241m=\u001b[39mb\u001b[38;5;241m/\u001b[39ma\u001b[38;5;241m*\u001b[39m\u001b[38;5;241m*\u001b[39m\u001b[38;5;241m2\u001b[39m\n\u001b[0;32m      5\u001b[0m \u001b[38;5;28mprint\u001b[39m(\u001b[38;5;28mround\u001b[39m(d,\u001b[38;5;241m2\u001b[39m))\n",
      "\u001b[1;31mIndexError\u001b[0m: list index out of range"
     ]
    }
   ],
   "source": [
    "c=input().split()\n",
    "a=float(c[0])\n",
    "b=float(c[1])\n",
    "d=b/a**2\n",
    "print(round(d,2))\n",
    "# oj 比賽-3"
   ]
  },
  {
   "cell_type": "code",
   "execution_count": 38,
   "metadata": {},
   "outputs": [
    {
     "ename": "IndexError",
     "evalue": "list index out of range",
     "output_type": "error",
     "traceback": [
      "\u001b[1;31m---------------------------------------------------------------------------\u001b[0m",
      "\u001b[1;31mIndexError\u001b[0m                                Traceback (most recent call last)",
      "Cell \u001b[1;32mIn[38], line 8\u001b[0m\n\u001b[0;32m      6\u001b[0m f\u001b[38;5;241m=\u001b[39m\u001b[38;5;28mint\u001b[39m(a[\u001b[38;5;241m4\u001b[39m])\n\u001b[0;32m      7\u001b[0m g\u001b[38;5;241m=\u001b[39m\u001b[38;5;28mint\u001b[39m(a[\u001b[38;5;241m5\u001b[39m])\n\u001b[1;32m----> 8\u001b[0m h\u001b[38;5;241m=\u001b[39m\u001b[38;5;28mint\u001b[39m(\u001b[43ma\u001b[49m\u001b[43m[\u001b[49m\u001b[38;5;241;43m6\u001b[39;49m\u001b[43m]\u001b[49m)\n\u001b[0;32m      9\u001b[0m i\u001b[38;5;241m=\u001b[39m\u001b[38;5;28mint\u001b[39m(a[\u001b[38;5;241m7\u001b[39m])\n\u001b[0;32m     10\u001b[0m j\u001b[38;5;241m=\u001b[39m\u001b[38;5;28mint\u001b[39m(a[\u001b[38;5;241m8\u001b[39m])\n",
      "\u001b[1;31mIndexError\u001b[0m: list index out of range"
     ]
    }
   ],
   "source": [
    "a=input().split()\n",
    "b=int(a[0])\n",
    "c=int(a[1])\n",
    "d=int(a[2])\n",
    "e=int(a[3])\n",
    "f=int(a[4])\n",
    "g=int(a[5])\n",
    "h=int(a[6])\n",
    "i=int(a[7])\n",
    "j=int(a[8])\n",
    "print(b+c+d+e+f+g+h+i+j)\n",
    "# oj 比賽-4"
   ]
  },
  {
   "cell_type": "code",
   "execution_count": 40,
   "metadata": {},
   "outputs": [
    {
     "name": "stdout",
     "output_type": "stream",
     "text": [
      "a=2 b=5\n",
      "a=5 b=2\n"
     ]
    }
   ],
   "source": [
    "c=input().split()\n",
    "a=int(c[0])\n",
    "b=int(c[1])\n",
    "print(f\"a={a} b={b}\")\n",
    "print(f\"a={b} b={a}\")\n",
    "# oj 比賽-5"
   ]
  }
 ],
 "metadata": {
  "kernelspec": {
   "display_name": "Python 3",
   "language": "python",
   "name": "python3"
  },
  "language_info": {
   "codemirror_mode": {
    "name": "ipython",
    "version": 3
   },
   "file_extension": ".py",
   "mimetype": "text/x-python",
   "name": "python",
   "nbconvert_exporter": "python",
   "pygments_lexer": "ipython3",
   "version": "3.11.9"
  }
 },
 "nbformat": 4,
 "nbformat_minor": 2
}
