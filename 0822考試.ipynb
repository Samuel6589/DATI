{
 "cells": [
  {
   "cell_type": "code",
   "execution_count": 4,
   "metadata": {},
   "outputs": [
    {
     "name": "stdout",
     "output_type": "stream",
     "text": [
      "2.5\n"
     ]
    }
   ],
   "source": [
    "a=float(input())\n",
    "b=float(input())\n",
    "print(a%b)\n",
    "# q1"
   ]
  },
  {
   "cell_type": "code",
   "execution_count": 10,
   "metadata": {},
   "outputs": [
    {
     "name": "stdout",
     "output_type": "stream",
     "text": [
      "153,370,371,407,"
     ]
    }
   ],
   "source": [
    "a=input().split()\n",
    "b=int(a[0])\n",
    "c=int(a[1])\n",
    "for i in range(b,c):\n",
    "    d=i//100\n",
    "    e=(i%100)//10\n",
    "    f=i-d*100-e*10\n",
    "    if(d**3+e**3+f**3==i):\n",
    "        print(i,end=\",\")\n",
    "# q10"
   ]
  },
  {
   "cell_type": "code",
   "execution_count": 12,
   "metadata": {},
   "outputs": [
    {
     "name": "stdout",
     "output_type": "stream",
     "text": [
      "t=50.0 b=80.99 h=52.69 area=3450.9315500000002\n"
     ]
    }
   ],
   "source": [
    "a=float(input())\n",
    "b=float(input())\n",
    "c=float(input())\n",
    "d=(a+b)*c/2\n",
    "print(\"t={} b={} h={} area={}\".format(a,b,c,d))\n",
    "# q2"
   ]
  },
  {
   "cell_type": "code",
   "execution_count": 24,
   "metadata": {},
   "outputs": [
    {
     "name": "stdout",
     "output_type": "stream",
     "text": [
      "park time:4h:29m\n",
      "pay:180 money\n"
     ]
    }
   ],
   "source": [
    "a=int(input())\n",
    "b=a//60\n",
    "c=a-(b*60)\n",
    "pay=b*40+20\n",
    "if(pay>300):\n",
    "    pay=300\n",
    "print(f\"park time:{b}h:{c}m\")\n",
    "print(f\"pay:{pay} money\")\n",
    "# q3"
   ]
  },
  {
   "cell_type": "code",
   "execution_count": 29,
   "metadata": {},
   "outputs": [
    {
     "name": "stdout",
     "output_type": "stream",
     "text": [
      "[3, 4, 5, 6, 7]\n"
     ]
    }
   ],
   "source": [
    "a=input().split()\n",
    "b=int(a[0])\n",
    "c=int(a[1])\n",
    "d=int(a[2])\n",
    "e=range(b,c,d)\n",
    "print(list(e))\n",
    "# q4"
   ]
  },
  {
   "cell_type": "code",
   "execution_count": 30,
   "metadata": {},
   "outputs": [
    {
     "name": "stdout",
     "output_type": "stream",
     "text": [
      "2100 is common year\n"
     ]
    }
   ],
   "source": [
    "a=int(input())\n",
    "if((a%4==0 and a%100!=0) or (a%100==0 and a%400==0)):\n",
    "    print(a,\"is leap year\")\n",
    "else:\n",
    "    print(a,\"is common year\")\n",
    "# q5"
   ]
  },
  {
   "cell_type": "code",
   "execution_count": 31,
   "metadata": {},
   "outputs": [
    {
     "name": "stdout",
     "output_type": "stream",
     "text": [
      "63 is D\n"
     ]
    }
   ],
   "source": [
    "a=int(input())\n",
    "if(a>100 or a<0):\n",
    "    print(a,\"is error\")\n",
    "if(a>=90 and a<=100):\n",
    "    print(a,\"is A\")\n",
    "if(a>=80 and a<=89):\n",
    "    print(a,\"is B\")\n",
    "if(a>=70 and a<=79):\n",
    "    print(a,\"is C\")\n",
    "if(a>=60 and a<=69):\n",
    "    print(a,\"is D\")\n",
    "if(a>=0 and a<=59):\n",
    "    print(a,\"is E\")  \n",
    "# q6"
   ]
  },
  {
   "cell_type": "code",
   "execution_count": 32,
   "metadata": {},
   "outputs": [
    {
     "name": "stdout",
     "output_type": "stream",
     "text": [
      "0,5,10,15,20,25,30,35,40,45,50,55,60,65,70,75,80,85,90,95,"
     ]
    }
   ],
   "source": [
    "a=input().split()\n",
    "b=int(a[0])\n",
    "c=int(a[1])\n",
    "d=int(a[2])\n",
    "for i in range(b,c,d):\n",
    "    print(i,end=\",\")\n",
    "# q7"
   ]
  },
  {
   "cell_type": "code",
   "execution_count": 36,
   "metadata": {},
   "outputs": [
    {
     "name": "stdout",
     "output_type": "stream",
     "text": [
      "*\n",
      "**\n",
      "***\n",
      "****\n",
      "*****\n"
     ]
    }
   ],
   "source": [
    "a=int(input())\n",
    "for i in range(1,a+1):\n",
    "    print(\"*\"*i)\n",
    "# q8"
   ]
  },
  {
   "cell_type": "code",
   "execution_count": 40,
   "metadata": {},
   "outputs": [
    {
     "name": "stdout",
     "output_type": "stream",
     "text": [
      "2*1=2 2*2=4 2*3=6 2*4=8 2*5=10 2*6=12 2*7=14 2*8=16 2*9=18 \n",
      "3*1=3 3*2=6 3*3=9 3*4=12 3*5=15 3*6=18 3*7=21 3*8=24 3*9=27 \n",
      "4*1=4 4*2=8 4*3=12 4*4=16 4*5=20 4*6=24 4*7=28 4*8=32 4*9=36 \n",
      "5*1=5 5*2=10 5*3=15 5*4=20 5*5=25 5*6=30 5*7=35 5*8=40 5*9=45 \n",
      "6*1=6 6*2=12 6*3=18 6*4=24 6*5=30 6*6=36 6*7=42 6*8=48 6*9=54 \n",
      "7*1=7 7*2=14 7*3=21 7*4=28 7*5=35 7*6=42 7*7=49 7*8=56 7*9=63 \n",
      "8*1=8 8*2=16 8*3=24 8*4=32 8*5=40 8*6=48 8*7=56 8*8=64 8*9=72 \n",
      "9*1=9 9*2=18 9*3=27 9*4=36 9*5=45 9*6=54 9*7=63 9*8=72 9*9=81 \n"
     ]
    }
   ],
   "source": [
    "a=int(input())\n",
    "for i in range(a,10):\n",
    "    for s in range(1,10):\n",
    "        print(\"%d*%d=%d\"%(i,s,i*s),end=\" \")\n",
    "    print()\n",
    "# q9"
   ]
  }
 ],
 "metadata": {
  "kernelspec": {
   "display_name": "Python 3",
   "language": "python",
   "name": "python3"
  },
  "language_info": {
   "codemirror_mode": {
    "name": "ipython",
    "version": 3
   },
   "file_extension": ".py",
   "mimetype": "text/x-python",
   "name": "python",
   "nbconvert_exporter": "python",
   "pygments_lexer": "ipython3",
   "version": "3.12.4"
  }
 },
 "nbformat": 4,
 "nbformat_minor": 2
}
