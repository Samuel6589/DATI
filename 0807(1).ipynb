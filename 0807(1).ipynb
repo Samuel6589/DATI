{
 "cells": [
  {
   "cell_type": "code",
   "execution_count": 5,
   "metadata": {},
   "outputs": [],
   "source": [
    "早餐=100\n",
    "午餐=50"
   ]
  },
  {
   "cell_type": "code",
   "execution_count": 6,
   "metadata": {},
   "outputs": [
    {
     "name": "stdout",
     "output_type": "stream",
     "text": [
      "150\n"
     ]
    }
   ],
   "source": [
    "餐費=早餐+午餐\n",
    "print(餐費)"
   ]
  },
  {
   "cell_type": "code",
   "execution_count": 8,
   "metadata": {},
   "outputs": [],
   "source": [
    "\n",
    "\n",
    "a=1\n",
    "b=2\n",
    "c=3\n",
    "\n"
   ]
  },
  {
   "cell_type": "code",
   "execution_count": 9,
   "metadata": {},
   "outputs": [
    {
     "data": {
      "text/plain": [
       "1"
      ]
     },
     "execution_count": 9,
     "metadata": {},
     "output_type": "execute_result"
    }
   ],
   "source": [
    "a"
   ]
  },
  {
   "cell_type": "code",
   "execution_count": 11,
   "metadata": {},
   "outputs": [
    {
     "name": "stdout",
     "output_type": "stream",
     "text": [
      "27.25\n",
      "33 34 32 10\n"
     ]
    }
   ],
   "source": [
    "週一氣溫=33 \n",
    "週二氣溫=34\n",
    "週三氣溫=32\n",
    "週四氣溫=10\n",
    "\n",
    "四天平均溫度=(週一氣溫+週二氣溫+週三氣溫+週四氣溫)/4\n",
    "print(四天平均溫度)\n",
    "print(週一氣溫,週二氣溫,週三氣溫,週四氣溫)"
   ]
  },
  {
   "cell_type": "code",
   "execution_count": 16,
   "metadata": {},
   "outputs": [
    {
     "name": "stdout",
     "output_type": "stream",
     "text": [
      "25.0\n"
     ]
    }
   ],
   "source": [
    "週一氣溫,週二氣溫,週三氣溫,週四氣溫=30,20,40,10\n",
    "#四天平均溫度=(週一氣溫+週二氣溫+週三氣溫+週四氣溫)/4\n",
    "print((週一氣溫+週二氣溫+週三氣溫+週四氣溫)/4)"
   ]
  },
  {
   "cell_type": "code",
   "execution_count": 17,
   "metadata": {},
   "outputs": [
    {
     "name": "stdout",
     "output_type": "stream",
     "text": [
      "300 2100 9000\n"
     ]
    }
   ],
   "source": [
    "每天花費=300\n",
    "一周花費=300*7\n",
    "月花費=300*30\n",
    "print(每天花費,一周花費,月花費)"
   ]
  }
 ],
 "metadata": {
  "kernelspec": {
   "display_name": "Python 3",
   "language": "python",
   "name": "python3"
  },
  "language_info": {
   "codemirror_mode": {
    "name": "ipython",
    "version": 3
   },
   "file_extension": ".py",
   "mimetype": "text/x-python",
   "name": "python",
   "nbconvert_exporter": "python",
   "pygments_lexer": "ipython3",
   "version": "3.12.4"
  }
 },
 "nbformat": 4,
 "nbformat_minor": 2
}
