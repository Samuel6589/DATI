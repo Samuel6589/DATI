{
 "cells": [
  {
   "cell_type": "code",
   "execution_count": 4,
   "metadata": {},
   "outputs": [
    {
     "name": "stdout",
     "output_type": "stream",
     "text": [
      "[1, 2, 3]\n"
     ]
    }
   ],
   "source": [
    "a=range(1,4)\n",
    "print(list(a))"
   ]
  },
  {
   "cell_type": "code",
   "execution_count": 6,
   "metadata": {},
   "outputs": [
    {
     "name": "stdout",
     "output_type": "stream",
     "text": [
      "[1, 3, 5, 7, 9]\n"
     ]
    }
   ],
   "source": [
    "b=range(1,10,2)\n",
    "print(list(b))"
   ]
  },
  {
   "cell_type": "code",
   "execution_count": 14,
   "metadata": {},
   "outputs": [
    {
     "name": "stdout",
     "output_type": "stream",
     "text": [
      "[1, 2, 3, 4, 5]\n",
      "香蕉\n",
      "蘋果\n",
      "橘子\n",
      "[1, '香蕉', 2, 'apples', 'True']\n",
      "香蕉\n",
      "apples\n",
      "True\n",
      "apples\n",
      "2\n"
     ]
    }
   ],
   "source": [
    "list1=[1,2,3,4,5]\n",
    "print(list1)\n",
    "list2=[\"香蕉\",\"蘋果\",\"橘子\"]\n",
    "print(list2[0])\n",
    "print(list2[1])\n",
    "print(list2[2])\n",
    "list3=[1,\"香蕉\",2,\"apples\",\"True\"]\n",
    "print(list3)\n",
    "print(list3[1])\n",
    "print(list3[3])\n",
    "print(list3[-1])\n",
    "print(list3[-2])\n",
    "print(list3[-3])"
   ]
  },
  {
   "cell_type": "code",
   "execution_count": 16,
   "metadata": {},
   "outputs": [
    {
     "name": "stdout",
     "output_type": "stream",
     "text": [
      "['tom', '123']\n",
      "123\n",
      "['joey', '456']\n",
      "['sam', '789']\n"
     ]
    }
   ],
   "source": [
    "list5=[[\"tom\",\"123\"],[\"joey\",\"456\"],[\"sam\",\"789\"]]\n",
    "print(list5[0])\n",
    "print(list5[0][1])\n",
    "print(list5[1])\n",
    "print(list5[2])"
   ]
  },
  {
   "cell_type": "code",
   "execution_count": 27,
   "metadata": {},
   "outputs": [
    {
     "name": "stdout",
     "output_type": "stream",
     "text": [
      "國文成績: 85分\n",
      "數學成績: 79分\n",
      "英文成績: 93分\n"
     ]
    }
   ],
   "source": [
    "list4=[\"國文成績: 85分\",\"數學成績: 79分\",\"英文成績: 93分\"]\n",
    "print(list4[0])\n",
    "print(list4[1])\n",
    "print(list4[2])"
   ]
  },
  {
   "cell_type": "code",
   "execution_count": 29,
   "metadata": {},
   "outputs": [
    {
     "name": "stdout",
     "output_type": "stream",
     "text": [
      "香蕉,蘋果,橘子,"
     ]
    }
   ],
   "source": [
    "list1=[\"香蕉\",\"蘋果\",\"橘子\"]\n",
    "for i in list1:\n",
    "    print(i,end=\",\")"
   ]
  },
  {
   "cell_type": "code",
   "execution_count": 31,
   "metadata": {},
   "outputs": [
    {
     "name": "stdout",
     "output_type": "stream",
     "text": [
      "123,apple,True,"
     ]
    }
   ],
   "source": [
    "list2=[123,\"apple\",\"True\"]\n",
    "for i in list2:\n",
    "    print(i,end=\",\")"
   ]
  },
  {
   "cell_type": "code",
   "execution_count": 33,
   "metadata": {},
   "outputs": [
    {
     "name": "stdout",
     "output_type": "stream",
     "text": [
      "3\n"
     ]
    }
   ],
   "source": [
    "score=[85,79,93]\n",
    "print(len(score))"
   ]
  },
  {
   "cell_type": "code",
   "execution_count": 36,
   "metadata": {},
   "outputs": [
    {
     "name": "stdout",
     "output_type": "stream",
     "text": [
      "85\n",
      "79\n",
      "93\n"
     ]
    }
   ],
   "source": [
    "scores=[85,79,93]\n",
    "for i in range(len(scores)):\n",
    "    print(scores[i])"
   ]
  },
  {
   "cell_type": "code",
   "execution_count": 40,
   "metadata": {},
   "outputs": [
    {
     "name": "stdout",
     "output_type": "stream",
     "text": [
      "國文成績 : 85\n",
      "英文成績 : 79\n",
      "數學成績 : 93\n"
     ]
    }
   ],
   "source": [
    "a=[\"國文成績\",\"英文成績\",\"數學成績\"]\n",
    "scores=[85,79,93]\n",
    "for i in range(len(a)):\n",
    "    print(a[i],\":\",scores[i])\n",
    "        "
   ]
  },
  {
   "cell_type": "code",
   "execution_count": 41,
   "metadata": {},
   "outputs": [
    {
     "name": "stdout",
     "output_type": "stream",
     "text": [
      "編號: 1 姓名: Tom\n",
      "編號: 2 姓名: Mary\n",
      "編號: 3 姓名: Tony\n"
     ]
    }
   ],
   "source": [
    "a=[1,2,3]\n",
    "name=[\"Tom\",\"Mary\",\"Tony\"]\n",
    "for i in range(len(a)):\n",
    "    print(\"編號:\",a[i] ,\"姓名:\",name[i])"
   ]
  },
  {
   "cell_type": "code",
   "execution_count": 50,
   "metadata": {},
   "outputs": [
    {
     "name": "stdout",
     "output_type": "stream",
     "text": [
      "cake banana apple "
     ]
    }
   ],
   "source": [
    "a=input().split()\n",
    "for i in range(len(a)-1,-1,-1):\n",
    "    print(a[i],end=\" \")\n"
   ]
  },
  {
   "cell_type": "code",
   "execution_count": 51,
   "metadata": {},
   "outputs": [
    {
     "name": "stdout",
     "output_type": "stream",
     "text": [
      "0,5,10,15,20,25,30,35,40,45,50,55,60,65,70,75,80,85,90,95,"
     ]
    }
   ],
   "source": [
    "a=input().split()\n",
    "b=int(a[0])\n",
    "c=int(a[1])\n",
    "d=int(a[2])\n",
    "for i in range(b,c,d):\n",
    "    print(i,end=\",\")\n"
   ]
  },
  {
   "cell_type": "code",
   "execution_count": 52,
   "metadata": {},
   "outputs": [
    {
     "name": "stdout",
     "output_type": "stream",
     "text": [
      "[3, 4, 5, 6, 7]\n"
     ]
    }
   ],
   "source": [
    "a=input().split()\n",
    "b=int(a[0])\n",
    "c=int(a[1])\n",
    "d=int(a[2])\n",
    "e=range(b,c,d)\n",
    "print(list(e))"
   ]
  }
 ],
 "metadata": {
  "kernelspec": {
   "display_name": "Python 3",
   "language": "python",
   "name": "python3"
  },
  "language_info": {
   "codemirror_mode": {
    "name": "ipython",
    "version": 3
   },
   "file_extension": ".py",
   "mimetype": "text/x-python",
   "name": "python",
   "nbconvert_exporter": "python",
   "pygments_lexer": "ipython3",
   "version": "3.12.4"
  }
 },
 "nbformat": 4,
 "nbformat_minor": 2
}
