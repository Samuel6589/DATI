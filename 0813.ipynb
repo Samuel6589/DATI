{
 "cells": [
  {
   "cell_type": "code",
   "execution_count": 6,
   "metadata": {},
   "outputs": [
    {
     "name": "stdout",
     "output_type": "stream",
     "text": [
      "錯誤\n"
     ]
    }
   ],
   "source": [
    "pas=int(input(\"請輸入密碼:\"))\n",
    "if (pas==1234):\n",
    "    print(\"歡迎光臨\")\n",
    "else:\n",
    "    print(\"錯誤\")    "
   ]
  },
  {
   "cell_type": "code",
   "execution_count": 9,
   "metadata": {},
   "outputs": [
    {
     "name": "stdout",
     "output_type": "stream",
     "text": [
      "不用傘\n"
     ]
    }
   ],
   "source": [
    "rain=input(\"今天會下雨嗎?\")\n",
    "if (rain==\"Y\" or rain==\"y\"):\n",
    "    print(\"記得帶傘\")\n",
    "else: \n",
    "    print(\"不用傘\")"
   ]
  },
  {
   "cell_type": "code",
   "execution_count": 17,
   "metadata": {},
   "outputs": [
    {
     "name": "stdout",
     "output_type": "stream",
     "text": [
      "錯誤\n"
     ]
    }
   ],
   "source": [
    "b=int(input(\"請輸入數字:\"))\n",
    "if (b>=0):\n",
    "    if (b%2==0):\n",
    "        print(\"偶數\")\n",
    "    else:\n",
    "        print(\"基數\")\n",
    "else:\n",
    "    print(\"錯誤\")"
   ]
  },
  {
   "cell_type": "code",
   "execution_count": 20,
   "metadata": {},
   "outputs": [
    {
     "name": "stdout",
     "output_type": "stream",
     "text": [
      "體溫略高\n"
     ]
    }
   ],
   "source": [
    "c=int(input(\"請輸入體溫:\"))\n",
    "if (c>=37.5):\n",
    "    print(\"體溫過高\")\n",
    "elif (c>=37 and c<=37.4):\n",
    "    print(\"體溫略高\")\n",
    "elif (c>=34 and c<=36.9):\n",
    "    print(\"體溫正常\")\n",
    "elif (c<34 and c>0):\n",
    "    print(\"體溫異常，重量\")\n",
    "else:\n",
    "    print(\"壞了\")"
   ]
  },
  {
   "cell_type": "code",
   "execution_count": 22,
   "metadata": {},
   "outputs": [
    {
     "name": "stdout",
     "output_type": "stream",
     "text": [
      "B\n"
     ]
    }
   ],
   "source": [
    "score=int(input(\"請輸入成績:\"))\n",
    "if (score>=90):\n",
    "    print(\"A\")\n",
    "elif (score>=80 and score<=89):\n",
    "    print(\"B\")\n",
    "elif (score>=70 and score<=79):\n",
    "    print(\"C\")\n",
    "elif (score>=60 and score<=69):\n",
    "    print(\"D\")\n",
    "elif (score<60):\n",
    "    print(\"D\")\n",
    "else:\n",
    "    print(\"錯誤\")       "
   ]
  },
  {
   "cell_type": "code",
   "execution_count": 32,
   "metadata": {},
   "outputs": [
    {
     "name": "stdout",
     "output_type": "stream",
     "text": [
      "10%的折扣 總額為 450.0\n"
     ]
    }
   ],
   "source": [
    "e=int(input(\"請輸入總額:\"))\n",
    "if (e>1000):\n",
    "    print(\"20%的折扣\",\"總額為\",e*0.8)\n",
    "elif (e>=500 and e<=1000):\n",
    "    print(\"10%的折扣\",\"總額為\",e*0.9)\n",
    "elif (e>=0 and e<500):\n",
    "    print(\"沒有折扣\",\"總額為\",e)\n",
    "else:\n",
    "    print(\"錯誤\")\n",
    "    "
   ]
  },
  {
   "cell_type": "code",
   "execution_count": 40,
   "metadata": {},
   "outputs": [
    {
     "name": "stdout",
     "output_type": "stream",
     "text": [
      "油量不足,建議加油\n"
     ]
    }
   ],
   "source": [
    "fuel=int(input(\"請輸入油量\"))\n",
    "if (fuel<5):\n",
    "    print(\"需要立即加油\")\n",
    "elif (fuel<=10 and fuel>=5):\n",
    "    print(\"油量不足,建議加油\")\n",
    "else :\n",
    "    print(\"油量充足\")\n",
    "\n"
   ]
  },
  {
   "cell_type": "code",
   "execution_count": 44,
   "metadata": {},
   "outputs": [
    {
     "name": "stdout",
     "output_type": "stream",
     "text": [
      "收50元手續費 轉帳金額為 4950\n"
     ]
    }
   ],
   "source": [
    "g=int(input(\"請輸入轉帳金額:\"))\n",
    "if (g>10000):\n",
    "    print(\"不收取手續費\",\"轉帳金額為\",g)\n",
    "elif (g>=5000 and e<=10000):\n",
    "    print(\"收50元手續費\",\"轉帳金額為\",g-50)\n",
    "elif (e>=1000 and e<=5000):\n",
    "    print(\"收100元手續費\",\"總額為\",g-100)\n",
    "elif (g<1000):\n",
    "    print(\"收150元手續費\",\"總額為\"-150)\n",
    "else:\n",
    "    print(\"錯誤\")\n",
    "    "
   ]
  }
 ],
 "metadata": {
  "kernelspec": {
   "display_name": "Python 3",
   "language": "python",
   "name": "python3"
  },
  "language_info": {
   "codemirror_mode": {
    "name": "ipython",
    "version": 3
   },
   "file_extension": ".py",
   "mimetype": "text/x-python",
   "name": "python",
   "nbconvert_exporter": "python",
   "pygments_lexer": "ipython3",
   "version": "3.12.4"
  }
 },
 "nbformat": 4,
 "nbformat_minor": 2
}
