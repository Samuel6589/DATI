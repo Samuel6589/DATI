{
 "cells": [
  {
   "cell_type": "code",
   "execution_count": 3,
   "metadata": {},
   "outputs": [
    {
     "name": "stdout",
     "output_type": "stream",
     "text": [
      "Hello world, I am ogxo!!\n",
      "Hello world, I am xoox!!\n",
      "there are 2 dollars\n",
      "there are 2.000000 dollars\n"
     ]
    }
   ],
   "source": [
    "a = 'Hello world, I am %s!!'\n",
    "b = 'there are %d dollars'\n",
    "c = 'there are %f dollars'\n",
    "print(a % 'oxxo')  # Hello world, I am oxxo!!\n",
    "print(a % 'xoox')  # Hello world, I am xoox!!\n",
    "print(b % 2.5)     # there are 2 dollars ( 小數點被無條件捨去 )\n",
    "print(c % 2)       # there are 2.000000 dollars ( 整數轉換成浮點數 )"
   ]
  },
  {
   "cell_type": "code",
   "execution_count": 4,
   "metadata": {},
   "outputs": [
    {
     "name": "stdout",
     "output_type": "stream",
     "text": [
      "hello world\n",
      "       hello world\n",
      "       hello world\n",
      "hello        world\n",
      "hel world\n",
      "         hel world\n",
      "123.457 world\n"
     ]
    }
   ],
   "source": [
    "print('%s world' % 'hello')      # hello world\n",
    "print('%12s world' % 'hello')    #        hello world\n",
    "print('%+12s world' % 'hello')   #        hello world\n",
    "print('%-12s world' % 'hello')   # hello        world\n",
    "print('%.3s world' % 'hello')    # hel world\n",
    "print('%12.3s world' % 'hello')  #          hel world\n",
    "\n",
    "print('%.3f world' % 123.456789) # 123.457 world"
   ]
  },
  {
   "cell_type": "code",
   "execution_count": 9,
   "metadata": {},
   "outputs": [
    {
     "name": "stdout",
     "output_type": "stream",
     "text": [
      "hello Samuel,i am Ray\n"
     ]
    }
   ],
   "source": [
    "a=\"hello {},i am {}\"\n",
    "b=a.format(\"Samuel\",\"Ray\")\n",
    "print(b)"
   ]
  },
  {
   "cell_type": "code",
   "execution_count": 10,
   "metadata": {},
   "outputs": [
    {
     "name": "stdout",
     "output_type": "stream",
     "text": [
      "hello world, I am QQ\n"
     ]
    }
   ],
   "source": [
    "a = 'hello {0[x][m]}, I am {0[y][m]}'\n",
    "b = {'x': {'m':'world', 'n':'oxxo'}, 'y':{'m':'QQ', 'n':'YY'}}\n",
    "c = a.format(b)\n",
    "print(c)    # hello world, I am QQ"
   ]
  },
  {
   "cell_type": "code",
   "execution_count": 40,
   "metadata": {},
   "outputs": [
    {
     "name": "stdout",
     "output_type": "stream",
     "text": [
      "hello world, I am oxxo\n",
      "hello world     , I am oxxo\n",
      "hello      world, I am       oxxo\n",
      "hello --world---, I am +++oxxo+++\n",
      "hello ---wor----, I am ---oxxo---\n",
      "hello ---wor----, I am  123.457  \n",
      "hello +++world---, I am +++oxxo---\n",
      "hello +++world---, I am +++oxxo---\n"
     ]
    }
   ],
   "source": [
    "a = 'hello {}, I am {}'.format('world','oxxo')\n",
    "b = 'hello {:10s}, I am {}'.format('world','oxxo')\n",
    "c = 'hello {:>10s}, I am {:>10s}'.format('world','oxxo')\n",
    "d = 'hello {:-^10s}, I am {:+^10s}'.format('world','oxxo')\n",
    "e = 'hello {:-^10.3s}, I am {:-^10s}'.format('world','oxxo')\n",
    "f = 'hello {:-^10.3s}, I am {:^10.3f}'.format('world',123.456789)\n",
    "g = 'hello +++{}---, I am +++{}---'.format('world','oxxo')\n",
    "h=\"world\"\n",
    "i=\"oxxo\"\n",
    "print(a)  # hello world, I am oxxo\n",
    "print(b)  # hello world     , I am oxxo\n",
    "print(c)  # hello      world, I am       oxxo\n",
    "print(d)  # hello --world---, I am +++oxxo+++\n",
    "print(e)  # hello ---wor----, I am ---oxxo---\n",
    "print(f)  # hello ---wor----, I am  123.457\n",
    "print(g)\n",
    "print(f\"hello +++{h}---, I am +++{i}---\")"
   ]
  },
  {
   "cell_type": "code",
   "execution_count": 41,
   "metadata": {},
   "outputs": [
    {
     "name": "stdout",
     "output_type": "stream",
     "text": [
      "hello world, I am oxxo\n"
     ]
    }
   ],
   "source": [
    "a=\"world\"\n",
    "b=\"oxxo\"\n",
    "print(f\"hello {a}, I am {b}\")"
   ]
  },
  {
   "cell_type": "code",
   "execution_count": 52,
   "metadata": {},
   "outputs": [
    {
     "name": "stdout",
     "output_type": "stream",
     "text": [
      "001 , 002 , 003 , 004 , 005 , 006 , 007 , 008 , 009 , 010 , \n",
      "011 , 012 , 013 , 014 , 015 , 016 , 017 , 018 , 019 , 020 , \n",
      "021 , 022 , 023 , 024 , 025 , 026 , 027 , 028 , 029 , 030 , \n",
      "031 , 032 , 033 , 034 , 035 , 036 , 037 , 038 , 039 , 040 , \n",
      "041 , 042 , 043 , 044 , 045 , 046 , 047 , 048 , 049 , 050 , \n",
      "051 , 052 , 053 , 054 , 055 , 056 , 057 , 058 , 059 , 060 , \n",
      "061 , 062 , 063 , 064 , 065 , 066 , 067 , 068 , 069 , 070 , \n",
      "071 , 072 , 073 , 074 , 075 , 076 , 077 , 078 , 079 , 080 , \n",
      "081 , 082 , 083 , 084 , 085 , 086 , 087 , 088 , 089 , 090 , \n",
      "091 , 092 , 093 , 094 , 095 , 096 , 097 , 098 , 099 , 100 , \n"
     ]
    }
   ],
   "source": [
    "for i in range(1,101):\n",
    "    print(f\"{i:03d}\",end=\" , \")\n",
    "    if(i%10==0):\n",
    "        print()"
   ]
  },
  {
   "cell_type": "code",
   "execution_count": 57,
   "metadata": {},
   "outputs": [
    {
     "name": "stdout",
     "output_type": "stream",
     "text": [
      "123.46\n"
     ]
    }
   ],
   "source": [
    "a=float(input(\"請輸入一個數:\"))\n",
    "b=f\"{a:0.2f}\"\n",
    "print(b)\n"
   ]
  },
  {
   "cell_type": "code",
   "execution_count": 94,
   "metadata": {},
   "outputs": [
    {
     "name": "stdout",
     "output_type": "stream",
     "text": [
      "hello wor;d\n"
     ]
    }
   ],
   "source": [
    "n=input().split()\n",
    "c=str(n[0])\n",
    "d=str(n[1])\n",
    "print(f\"{c} {d}\")\n",
    "\n"
   ]
  },
  {
   "cell_type": "code",
   "execution_count": 61,
   "metadata": {},
   "outputs": [
    {
     "name": "stdout",
     "output_type": "stream",
     "text": [
      "You are 3 years old.\n"
     ]
    }
   ],
   "source": [
    "d=int(input(\"請輸入年分:\"))\n",
    "e=f\"You are {2024-d} years old.\"\n",
    "print(e)\n"
   ]
  },
  {
   "cell_type": "code",
   "execution_count": 98,
   "metadata": {},
   "outputs": [
    {
     "name": "stdout",
     "output_type": "stream",
     "text": [
      "\"2024-08-15report.pdf\"\n"
     ]
    }
   ],
   "source": [
    "import datetime\n",
    "today = datetime.date.today()\n",
    "a=input().split()\n",
    "b=str(a[0])\n",
    "c=str(a[1])\n",
    "print(f'\"{today}{b}.{c}\"')\n"
   ]
  },
  {
   "cell_type": "code",
   "execution_count": 78,
   "metadata": {},
   "outputs": [
    {
     "name": "stdout",
     "output_type": "stream",
     "text": [
      "5*6=30\n"
     ]
    }
   ],
   "source": [
    "a,b=input().split()\n",
    "a=int(a)\n",
    "b=int(b)\n",
    "print(f\"{a}*{b}={a*b}\")"
   ]
  }
 ],
 "metadata": {
  "kernelspec": {
   "display_name": "Python 3",
   "language": "python",
   "name": "python3"
  },
  "language_info": {
   "codemirror_mode": {
    "name": "ipython",
    "version": 3
   },
   "file_extension": ".py",
   "mimetype": "text/x-python",
   "name": "python",
   "nbconvert_exporter": "python",
   "pygments_lexer": "ipython3",
   "version": "3.12.4"
  }
 },
 "nbformat": 4,
 "nbformat_minor": 2
}
